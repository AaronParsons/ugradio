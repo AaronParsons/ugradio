{
 "cells": [
  {
   "cell_type": "markdown",
   "metadata": {},
   "source": [
    "# A $\\chi^2$ Tutorial"
   ]
  },
  {
   "cell_type": "code",
   "execution_count": 1,
   "metadata": {
    "collapsed": true
   },
   "outputs": [],
   "source": [
    "from __future__ import print_function\n",
    "%matplotlib inline\n",
    "import numpy as np, pylab as plt"
   ]
  },
  {
   "cell_type": "markdown",
   "metadata": {},
   "source": [
    "Suppose we have a linear function,\n",
    "\\begin{equation}\n",
    "f(x,m,b)=mx+b,\n",
    "\\end{equation}\n",
    "that we have measured at various $x_i$'s.  Our measurements are noisy, so for each measurement, $y_i$, that we make, \n",
    "we get a sample of the function $f(x_i,m,b)$ added with some noise, $n_i$:\n",
    "\\begin{equation}\n",
    "y_i=f(x_i,m,b)+n_i,\n",
    "\\end{equation}\n",
    "For this example, let's assume the noise is drawn from a Gaussian distribution and each measurement has statistically identical noise with a variance of $\\langle n_i^2\\rangle\\equiv\\sigma^2$. "
   ]
  },
  {
   "cell_type": "code",
   "execution_count": 2,
   "metadata": {
    "collapsed": true
   },
   "outputs": [],
   "source": [
    "def f(x,m,b):\n",
    "    return m*x+b\n",
    "\n",
    "xs = np.array([-2, -1, 0, 1, 2], dtype=np.float)\n",
    "ys = np.array([-4.0761021 , -0.61376301,  0.96543424,  3.7373177 ,  3.86467818])"
   ]
  },
  {
   "cell_type": "markdown",
   "metadata": {},
   "source": [
    "So given the measurements, `ys`, at the coordinates specified in `xs`, which would be your best guess for ($m$,$b$)?\n",
    "- (1,1)\n",
    "- (2,1)\n",
    "- (1,2)\n",
    "- (2,2)"
   ]
  },
  {
   "cell_type": "code",
   "execution_count": null,
   "metadata": {
    "collapsed": true
   },
   "outputs": [],
   "source": []
  },
  {
   "cell_type": "code",
   "execution_count": null,
   "metadata": {
    "collapsed": true
   },
   "outputs": [],
   "source": []
  },
  {
   "cell_type": "code",
   "execution_count": null,
   "metadata": {
    "collapsed": true
   },
   "outputs": [],
   "source": []
  },
  {
   "cell_type": "code",
   "execution_count": null,
   "metadata": {
    "collapsed": true
   },
   "outputs": [],
   "source": []
  },
  {
   "cell_type": "code",
   "execution_count": null,
   "metadata": {
    "collapsed": true
   },
   "outputs": [],
   "source": []
  },
  {
   "cell_type": "code",
   "execution_count": null,
   "metadata": {
    "collapsed": true
   },
   "outputs": [],
   "source": []
  },
  {
   "cell_type": "code",
   "execution_count": null,
   "metadata": {
    "collapsed": true
   },
   "outputs": [],
   "source": []
  },
  {
   "cell_type": "markdown",
   "metadata": {},
   "source": [
    "If you have a menu of choices, just evaluate $\\chi^2$ for each one:\n",
    "\\begin{equation}\n",
    "\\chi^2=\\sum_i{\\frac{|y_i-f(\\vec x_i,\\vec p)|^2}{\\sigma_i^2}}.\n",
    "\\end{equation}\n",
    "In the above equation, $i$ indexes different measurements, $\\sigma_i$ is the expected error in each measurment, and we have introduced a vector, $\\vec p$, that contains the parameters we are fitting.  In the above example, $\\vec p = (m, b)$."
   ]
  },
  {
   "cell_type": "code",
   "execution_count": 3,
   "metadata": {},
   "outputs": [
    {
     "name": "stdout",
     "output_type": "stream",
     "text": [
      "Chi-Square: [13.61  3.14 20.85 10.39]\n"
     ]
    }
   ],
   "source": [
    "def chisq(ys, mdl, sig):\n",
    "    return np.sum(np.abs(ys-mdl)**2/sig**2)\n",
    "\n",
    "sig = 1. # Let's assume \\sigma_i^2=1 for now\n",
    "ps = [(1,1),(2,1),(1,2),(2,2)]\n",
    "X2 = [chisq(ys, f(xs,*p), sig) for p in ps]\n",
    "print('Chi-Square:', np.around(X2,2))"
   ]
  },
  {
   "cell_type": "markdown",
   "metadata": {},
   "source": [
    "So it appears $(m,b)=(2,1)$ is the best answer! Here's what it looks like."
   ]
  },
  {
   "cell_type": "code",
   "execution_count": 4,
   "metadata": {},
   "outputs": [
    {
     "data": {
      "image/png": "[encoded data removed]",
      "text/plain": [
       "<matplotlib.figure.Figure at 0x11379a9d0>"
      ]
     },
     "metadata": {},
     "output_type": "display_data"
    }
   ],
   "source": [
    "plt.figure()\n",
    "plt.plot(xs,ys,'k.')\n",
    "plt.plot(xs, 2*xs+1, 'k:')\n",
    "plt.grid()\n",
    "plt.show()"
   ]
  },
  {
   "cell_type": "markdown",
   "metadata": {},
   "source": [
    "But what happens if we don't have a menu of choices?  Our options are:\n",
    "- make our own menu (e.g. sample a grid at some resolution), or\n",
    "- optimize!\n",
    "\n",
    "In a moment, we will take a trip down the rabbit-hole of optimizing functions, but first, let's ask the reasonable question, \"Why $X^2$?\"."
   ]
  },
  {
   "cell_type": "markdown",
   "metadata": {},
   "source": [
    "## Why $\\chi^2$?\n",
    "\n",
    "When fitting a model to data, we are looking for the likeliest (maximum likelihood) solution.  What determines the likelihood, $L$, of a solution?  It is the probability \n",
    "that each measurement's deviation from the model could happen by random chance.  Mathematically, this is written\n",
    "\\begin{equation}\n",
    "L = \\prod_i\\frac{1}{\\sigma_i\\sqrt{2\\pi}}\n",
    "e^{-\\left|y_i-f(\\vec x_i,\\vec p)\\right|^2/2\\sigma_i^2}.\n",
    "\\end{equation}\n",
    "Don't worry about the $1/\\sigma_i\\sqrt{2\\pi}$ prefactor; that's just a normalization that ensures probabilities add to one.  The important part is the exponential.\n",
    "\n",
    "We need to maximize $L$, but exponentials are cumbersome. \n",
    "Instead, let's maximize $\\log L$:\n",
    "\\begin{equation}\n",
    "\\log L = -\\frac12\\sum_i\\frac{\\left|y_i-f(\\vec x_i,\\vec p)\\right|^2}{\\sigma_i^2} - \\sum_i \\log(\\sigma_i\\sqrt{2\\pi})\n",
    "\\end{equation}\n",
    "The second term (with the $\\sigma_i\\sqrt{2\\pi}$) doesn't depend on the model, so we can safely ignore it---it's a constant.  Let's focus on optimizing the first term. To clean things up, we'll drop the $-\\frac12$ factor (so now we are *minimizing*), which gives us\n",
    "\\begin{equation}\n",
    "\\chi^2=\\sum_i{\\frac{|y_i-f(\\vec x_i,\\vec p)|^2}{\\sigma_i^2}}.\n",
    "\\end{equation}\n",
    "\n",
    "Maximizing $L$ is the same as minimizing $\\chi^2$.\n",
    "Moreover, since $L\\propto e^{-\\frac12\\chi^2}$, $\\chi^2$ is a measure of the number of \"sigmas\" (squared) by which your fit deviates from the model."
   ]
  },
  {
   "cell_type": "markdown",
   "metadata": {},
   "source": [
    "## Optimizing $\\chi^2$\n",
    "\n",
    "Optimizing (which in numerics is almost always framed as minimizing) a general function can be done by looping over the following four steps:\n",
    "1. Start somewhere.  Choose a $\\vec p_j$ (the $j^{\\rm th}$ successive estimate of the optimal parameters, $\\vec p$) and evaluate\n",
    "\\begin{equation}\n",
    "\\chi_j^2=\\sum_i{\\frac{|y_i-f(\\vec x_i,\\vec p_j)|^2}{\\sigma_i^2}}\n",
    "\\end{equation}\n",
    "2. Compute the gradient (slope) of $\\chi^2$ w.r.t. $p_A,p_B,\\dots=\\vec p_j$ to get $\\frac{\\partial\\chi^2}{\\partial \\vec p_j}$\n",
    "3. Check to see if either $\\chi_j^2$ or $\\frac{\\partial\\chi^2}{\\partial \\vec p_j}$ are small enough to declare victory.  If so, STOP.\n",
    "4. Otherwise, take a step \"downhill\" toward your target $\\chi^2_T$ and return to step 1:\n",
    "\\begin{align}\n",
    "\\frac{\\chi_T^2-\\chi_j^2}{\\vec p_{j+1}-\\vec p_j}&=-\\frac{\\partial\\chi^2}{\\partial \\vec p_j}\\\\\n",
    "\\vec p_{j+1} &= \\vec p_j - \\frac{\\chi_T^2-\\chi_j^2}{\\partial\\chi^2/\\partial \\vec p_j}\\\\\n",
    "\\end{align}"
   ]
  },
  {
   "cell_type": "markdown",
   "metadata": {},
   "source": [
    "### Taking a Gradient Numerically\n",
    "\n",
    "Suppose you have a general function $g(\\vec x)$ that you need to take the gradient of:\n",
    "\\begin{equation}\n",
    "\\frac{\\partial g}{\\partial\\vec x}=\\left(\\frac{\\partial g}{\\partial x_0}, \\frac{\\partial g}{\\partial x_1}, \\frac{\\partial g}{\\partial x_2}, \\dots\\right)\n",
    "\\end{equation}\n",
    "\n",
    "Numerically, this might look like:"
   ]
  },
  {
   "cell_type": "code",
   "execution_count": 5,
   "metadata": {},
   "outputs": [
    {
     "name": "stdout",
     "output_type": "stream",
     "text": [
      "g(x) = 33.0\n",
      "dg/dx = [ 2. 64. -1.]\n"
     ]
    }
   ],
   "source": [
    "def g(x):\n",
    "    return x[0]**2 + 2*x[1]**4 + np.cos(x[2])\n",
    "\n",
    "x0,x1,x2 = x = np.array([1.,2,np.pi/2])\n",
    "g0 = g(x)\n",
    "#dx = 1e-15 # errors from numerical precision\n",
    "dx = 1e-5 # good?\n",
    "#dx = 1e-1 # errors from step size\n",
    "x0_step = np.array([x0+dx,x1,x2])\n",
    "x1_step = np.array([x0,x1+dx,x2])\n",
    "x2_step = np.array([x0,x1,x2+dx])\n",
    "dg_dx = np.array([(g(x0_step)-g0)/dx, (g(x1_step)-g0)/dx, (g(x2_step)-g0)/dx])\n",
    "print('g(x) =', g0)\n",
    "print('dg/dx =', np.around(dg_dx, 2))"
   ]
  },
  {
   "cell_type": "markdown",
   "metadata": {},
   "source": [
    "### Minimizing Functions"
   ]
  },
  {
   "cell_type": "markdown",
   "metadata": {},
   "source": [
    "If we iterate along, computing gradients, stepping downhill, and recomputing, we can eventually find where (or if) the function's gradient goes to zero, indicating we've minimized it.  However, there is something of an art to taking steps of the right size such that:\n",
    "- you don't spend forever getting there, but\n",
    "- you don't overstep, go unstable, and end up at infinity.\n",
    "\n",
    "Here's an example of a minimizing function:"
   ]
  },
  {
   "cell_type": "code",
   "execution_count": 6,
   "metadata": {
    "collapsed": true
   },
   "outputs": [],
   "source": [
    "def minimize(func, xs, stepsize=1e-2, dx=1e-5, maxiter=100, tol=1e-3):\n",
    "    '''Minimize a function using a gradient-descent algorithm.'''\n",
    "    for iter in range(maxiter):\n",
    "        f0 = func(xs)\n",
    "        ndims = len(xs)\n",
    "        x_steps = [xs.copy() for i in range(ndims)]\n",
    "        for i in xrange(ndims):\n",
    "            x_steps[i][i] += dx\n",
    "        grad = np.array([(func(x_steps[i])-f0)/dx for i in range(ndims)])\n",
    "        if np.abs(grad).max() < tol:\n",
    "            break\n",
    "        xs = np.array([xs[i]-stepsize*grad[i] for i in range(ndims)])\n",
    "    return {'iter':iter, 'func':f0, 'grad':grad, 'x':xs}"
   ]
  },
  {
   "cell_type": "code",
   "execution_count": 7,
   "metadata": {},
   "outputs": [
    {
     "name": "stdout",
     "output_type": "stream",
     "text": [
      "Solution: [-0.    0.05  3.14]\n",
      "Iterations: 509\n"
     ]
    }
   ],
   "source": [
    "result = minimize(g, np.array([1.,2,3]), stepsize=.03, maxiter=1000)\n",
    "print('Solution:', np.around(result['x'],2))\n",
    "print('Iterations:', result['iter'])"
   ]
  },
  {
   "cell_type": "code",
   "execution_count": 8,
   "metadata": {},
   "outputs": [
    {
     "name": "stdout",
     "output_type": "stream",
     "text": [
      "Solution: [0.14 0.25 3.09]\n",
      "Iterations: 999\n"
     ]
    }
   ],
   "source": [
    "result = minimize(g, np.array([1.,2,3]), stepsize=.001, maxiter=1000)\n",
    "print('Solution:', np.around(result['x'],2))\n",
    "print('Iterations:', result['iter'])"
   ]
  },
  {
   "cell_type": "code",
   "execution_count": 9,
   "metadata": {},
   "outputs": [
    {
     "name": "stdout",
     "output_type": "stream",
     "text": [
      "Solution: [5.10000000e-01 7.11588315e+15 3.04000000e+00]\n",
      "Iterations: 4\n"
     ]
    }
   ],
   "source": [
    "result = minimize(g, np.array([1.,2,3]), stepsize=.1, maxiter=1000)\n",
    "print('Solution:', np.around(result['x'],2))\n",
    "print('Iterations:', result['iter'])"
   ]
  },
  {
   "cell_type": "markdown",
   "metadata": {},
   "source": [
    "As you can see, our ability to converge to a reasonable solution can be finicky. Fortunately, there are libraries for this kind of thing:"
   ]
  },
  {
   "cell_type": "code",
   "execution_count": 10,
   "metadata": {},
   "outputs": [
    {
     "name": "stdout",
     "output_type": "stream",
     "text": [
      "Optimization terminated successfully.\n",
      "         Current function value: -1.000000\n",
      "         Iterations: 146\n",
      "         Function evaluations: 259\n",
      "Solution: [-0.   -0.    3.14]\n"
     ]
    }
   ],
   "source": [
    "import scipy.optimize\n",
    "result = scipy.optimize.fmin(g, np.array([1.,2,3]))\n",
    "print('Solution:', np.around(result,2))"
   ]
  },
  {
   "cell_type": "markdown",
   "metadata": {},
   "source": [
    "### Back to Optimizing $\\chi^2$"
   ]
  },
  {
   "cell_type": "code",
   "execution_count": 11,
   "metadata": {},
   "outputs": [
    {
     "name": "stdout",
     "output_type": "stream",
     "text": [
      "Optimization terminated successfully.\n",
      "         Current function value: 2.883578\n",
      "         Iterations: 35\n",
      "         Function evaluations: 67\n",
      "m,b = [2.02 0.78]\n"
     ]
    }
   ],
   "source": [
    "def chisq_min(p):\n",
    "    m,b = p\n",
    "    return chisq(ys, f(xs,m,b), 1.) \n",
    "\n",
    "ans = scipy.optimize.fmin(chisq_min, np.array([.5,.5]))\n",
    "print('m,b =', np.around(ans,2))"
   ]
  },
  {
   "cell_type": "markdown",
   "metadata": {},
   "source": [
    "So we've gone and fit `m` and `b` in our `f(x) = m*x+b` example, and now we have an answer.  Is this the actual answer?  What are the statistical errors on these measurements?"
   ]
  },
  {
   "cell_type": "markdown",
   "metadata": {},
   "source": [
    "And if you were wondering, the above is what `np.polyfit` does, except it's programmed in the gradients analytically, so it converges faster."
   ]
  },
  {
   "cell_type": "code",
   "execution_count": 12,
   "metadata": {},
   "outputs": [
    {
     "name": "stdout",
     "output_type": "stream",
     "text": [
      "m,b = 2.0232641269999996 0.7755130020000003\n"
     ]
    }
   ],
   "source": [
    "m,b = np.polyfit(xs,ys, deg=1)\n",
    "print('m,b =', m,b)"
   ]
  },
  {
   "cell_type": "code",
   "execution_count": 13,
   "metadata": {},
   "outputs": [
    {
     "data": {
      "image/png": "[encoded data removed]",
      "text/plain": [
       "<matplotlib.figure.Figure at 0x116bf2090>"
      ]
     },
     "metadata": {},
     "output_type": "display_data"
    }
   ],
   "source": [
    "plt.figure()\n",
    "plt.plot(xs,ys,'k.')\n",
    "plt.plot(xs, ans[0]*xs+ans[1], 'r:')\n",
    "plt.grid()\n",
    "plt.show()"
   ]
  },
  {
   "cell_type": "markdown",
   "metadata": {},
   "source": [
    "## Estimating Errors\n",
    "\n",
    "In the above example, it looks like the final $\\chi^2$ of our fit was 2.8.  Is this good?\n",
    "- Yes\n",
    "- No\n",
    "- Maybe\n",
    "- Depends"
   ]
  },
  {
   "cell_type": "code",
   "execution_count": null,
   "metadata": {
    "collapsed": true
   },
   "outputs": [],
   "source": []
  },
  {
   "cell_type": "code",
   "execution_count": null,
   "metadata": {
    "collapsed": true
   },
   "outputs": [],
   "source": []
  },
  {
   "cell_type": "code",
   "execution_count": null,
   "metadata": {
    "collapsed": true
   },
   "outputs": [],
   "source": []
  },
  {
   "cell_type": "code",
   "execution_count": null,
   "metadata": {
    "collapsed": true
   },
   "outputs": [],
   "source": []
  },
  {
   "cell_type": "code",
   "execution_count": null,
   "metadata": {
    "collapsed": true
   },
   "outputs": [],
   "source": []
  },
  {
   "cell_type": "code",
   "execution_count": null,
   "metadata": {
    "collapsed": true
   },
   "outputs": [],
   "source": []
  },
  {
   "cell_type": "code",
   "execution_count": null,
   "metadata": {
    "collapsed": true
   },
   "outputs": [],
   "source": []
  },
  {
   "cell_type": "code",
   "execution_count": null,
   "metadata": {
    "collapsed": true
   },
   "outputs": [],
   "source": []
  },
  {
   "cell_type": "code",
   "execution_count": null,
   "metadata": {
    "collapsed": true
   },
   "outputs": [],
   "source": []
  },
  {
   "cell_type": "markdown",
   "metadata": {},
   "source": [
    "So the way we've been writing $\\chi^2$, it scales with the number of measurements we make:\n",
    "\\begin{equation}\n",
    "\\chi^2=\\sum_i{\\frac{|y_i-f(\\vec c_i,\\vec p)|^2}{\\sigma_i^2}}\n",
    "\\end{equation}\n",
    "\n",
    "To make a fair comparison, we need to normalize this to the error we expect in a \"perfect\" fit.  Suppose we knew $m,b$ perfectly, so that we could subtract $f(x_i,m,b)$ from our measurement $y_i=f(x_i,m,b)+n_i$.  In this case, the residual would be $n_i$, and $\\langle|n_i|^2\\rangle=\\sigma_i^2$.  If we know our $\\sigma^2$ well, we can construct a *reduced* $\\chi^2$,\n",
    "\\begin{equation}\n",
    "\\chi_r^2=\\frac{1}{N}\\sum_i{\\frac{|y_i-f(\\vec c_i,\\vec p)|^2}{\\sigma_i^2}},\n",
    "\\end{equation}\n",
    "where we expect $\\chi_r^2\\approx1$ if we know $\\sigma_i$ well enough.\n",
    "\n",
    "So above, we had $N=5$ measurements, to $\\chi_r^2=\\chi^2/5=0.58$.  That's a good fit.  Perhaps too good?"
   ]
  },
  {
   "cell_type": "markdown",
   "metadata": {},
   "source": [
    "## When Fits are \"Too Good to be True\"\n",
    "\n",
    "Suppose I have a silly line, $y=0$, and I add some noise to a bunch of measurements of this line, and then fit a line to those measurements and ask for my reduced $\\chi^2$ with perfect knowledge of my noise statistics?"
   ]
  },
  {
   "cell_type": "code",
   "execution_count": 14,
   "metadata": {},
   "outputs": [
    {
     "name": "stdout",
     "output_type": "stream",
     "text": [
      "0.7980758577942968\n"
     ]
    }
   ],
   "source": [
    "chisq_r = []\n",
    "for i in xrange(10000):\n",
    "    ys = np.random.normal(scale=1., size=10)\n",
    "    xs = np.arange(ys.size) # invent a dummy x variable\n",
    "    m,b = np.polyfit(xs, ys, deg=1)\n",
    "    chisq_r.append(np.sum(np.abs(ys - np.polyval([m,b], xs))**2) / ys.size)\n",
    "print(np.average(chisq_r))"
   ]
  },
  {
   "cell_type": "markdown",
   "metadata": {},
   "source": [
    "Why is $\\chi_r^2<1$?\n",
    "- The line ate the noise\n",
    "- Need better noise model\n",
    "- There wasn't actually a line\n",
    "- Dividing by wrong number of measurements"
   ]
  },
  {
   "cell_type": "code",
   "execution_count": null,
   "metadata": {
    "collapsed": true
   },
   "outputs": [],
   "source": []
  },
  {
   "cell_type": "code",
   "execution_count": null,
   "metadata": {
    "collapsed": true
   },
   "outputs": [],
   "source": []
  },
  {
   "cell_type": "code",
   "execution_count": null,
   "metadata": {
    "collapsed": true
   },
   "outputs": [],
   "source": []
  },
  {
   "cell_type": "code",
   "execution_count": null,
   "metadata": {
    "collapsed": true
   },
   "outputs": [],
   "source": []
  },
  {
   "cell_type": "code",
   "execution_count": null,
   "metadata": {
    "collapsed": true
   },
   "outputs": [],
   "source": []
  },
  {
   "cell_type": "code",
   "execution_count": null,
   "metadata": {
    "collapsed": true
   },
   "outputs": [],
   "source": []
  },
  {
   "cell_type": "code",
   "execution_count": null,
   "metadata": {
    "collapsed": true
   },
   "outputs": [],
   "source": []
  },
  {
   "cell_type": "code",
   "execution_count": null,
   "metadata": {
    "collapsed": true
   },
   "outputs": [],
   "source": []
  },
  {
   "cell_type": "code",
   "execution_count": null,
   "metadata": {
    "collapsed": true
   },
   "outputs": [],
   "source": []
  },
  {
   "cell_type": "markdown",
   "metadata": {},
   "source": [
    "As a hint, here's the same code, fitting a 4th order (5 parameter) polynomial:"
   ]
  },
  {
   "cell_type": "code",
   "execution_count": 15,
   "metadata": {},
   "outputs": [
    {
     "name": "stdout",
     "output_type": "stream",
     "text": [
      "0.5030894745224488\n"
     ]
    }
   ],
   "source": [
    "chisq_r = []\n",
    "for i in xrange(10000):\n",
    "    ys = np.random.normal(scale=1., size=10)\n",
    "    xs = np.arange(ys.size) # invent a dummy x variable\n",
    "    poly = np.polyfit(xs, ys, deg=4)\n",
    "    chisq_r.append(np.sum(np.abs(ys - np.polyval(poly, xs))**2) / ys.size)\n",
    "print(np.average(chisq_r))"
   ]
  },
  {
   "cell_type": "markdown",
   "metadata": {},
   "source": [
    "It turns out the degrees of freedom in your model give it enough wiggle room to absorb noise.  Think if it this way: if I fit a line to 2 noisy points, I'll get a perfect fit ($\\chi^2=0$), but that doesn't mean that my answer is perfect.\n",
    "\n",
    "In fact, for every degree of freedom in our model, we can absorb out a degree of freedom in our data.  That means that when we thought we had 10 independent measurements, we actually only had 8 (or 5 in the `deg=4` case).  To account for this, the *real* definition of the reduced $\\chi^2$ is:\n",
    "\\begin{equation}\n",
    "\\chi_r^2=\\frac{1}{N-M}\\sum_i{\\frac{|y_i-f(\\vec x_i,\\vec p)|^2}{\\sigma_i^2}},\n",
    "\\end{equation}\n",
    "where $M$ is the number of degrees of freedom in the model.  Those degrees of freedom absorb out noise in the data that will then not contribute to the $\\chi^2$.  These degrees of freedom also mean that your model is not as over-constrained as you might otherwise think.  To do good science, we want our model to be highly over-constrained, so that errors beat down as $\\sqrt{N-M}$."
   ]
  },
  {
   "cell_type": "code",
   "execution_count": 16,
   "metadata": {},
   "outputs": [
    {
     "name": "stdout",
     "output_type": "stream",
     "text": [
      "0.9927387234221549\n"
     ]
    }
   ],
   "source": [
    "chisq_r = []\n",
    "for i in xrange(10000):\n",
    "    ys = np.random.normal(scale=1., size=10)\n",
    "    xs = np.arange(ys.size) # invent a dummy x variable\n",
    "    poly = np.polyfit(xs, ys, deg=4)\n",
    "    chisq_r.append(np.sum(np.abs(ys - np.polyval(poly, xs))**2) / (ys.size-len(poly)))\n",
    "print(np.average(chisq_r))"
   ]
  },
  {
   "cell_type": "markdown",
   "metadata": {},
   "source": [
    "## Propagating $\\chi^2$ to Parameter Errors\n",
    "\n",
    "The final step here is to use our $\\chi^2$ to estimate the errors on our parameters.  Why is there error in our parameters, and how did it get there?  Well remember when we said that the degrees of freedom in our model absorbed out some of the noise?  Yep.  That's how.\n",
    "\n",
    "How much did it absorb?  Apparently the difference between $N$ and $N-M$.  A \"perfect\" fit should have had a (non-reduced) $\\chi^2$ that was $M$ higher. That means our $\\chi^2$ (again, *not* reduced) should be allowed to increase by 1 for each parameter we fit to get 1$\\sigma$ error bars (because $\\chi^2$ is in units of $\\sigma$).\n",
    "We change $\\vec p$ until $\\chi^2$ increases by 1 (for 1$\\sigma$ error bars), 4 (for 2$\\sigma$ error bars), or 9 (for 3$\\sigma$ error bars).  "
   ]
  },
  {
   "cell_type": "code",
   "execution_count": 17,
   "metadata": {},
   "outputs": [
    {
     "name": "stdout",
     "output_type": "stream",
     "text": [
      "1.0237900858322155\n",
      "1.0242099141677845\n",
      "1.0124092932583366\n",
      "1.0125907067416637\n"
     ]
    }
   ],
   "source": [
    "xs = np.array([-2, -1, 0, 1, 2], dtype=np.float)\n",
    "ys = np.array([-4.0761021 , -0.61376301,  0.96543424,  3.7373177 ,  3.86467818])\n",
    "\n",
    "def chisq_min(p):\n",
    "    m,b = p\n",
    "    return chisq(ys, f(xs,m,b), 1.)\n",
    "\n",
    "chi0 = chisq_min(ans)\n",
    "print(chisq_min(ans+np.array([.32,0])) - chi0)\n",
    "print(chisq_min(ans+np.array([-.32,0])) - chi0)\n",
    "print(chisq_min(ans+np.array([0,0.45])) - chi0)\n",
    "print(chisq_min(ans+np.array([0,-0.45])) - chi0)"
   ]
  },
  {
   "cell_type": "code",
   "execution_count": 18,
   "metadata": {},
   "outputs": [
    {
     "name": "stdout",
     "output_type": "stream",
     "text": [
      "m = 2.023231 +/- 0.320000\n",
      "b = 0.775493 +/- 0.450000\n"
     ]
    }
   ],
   "source": [
    "print('m = %f +/- %f' % (ans[0], .32))\n",
    "print('b = %f +/- %f' % (ans[1], .45))"
   ]
  },
  {
   "cell_type": "markdown",
   "metadata": {},
   "source": [
    "## The Big Guns\n",
    "\n",
    "If you have a linear problem you are trying to solve (or if you can linearize it), you can do *much* better than this iterative mumbo-jumbo.  You can solve it in one shot!  Let's go back to our $y_i = mx_i +b + n_i$ example, but extend it to two dimensions: $z_i = ax_i+by_i+c + n_i$\n",
    "\n",
    "You know what $x_i$ and $y_i$ are (they are the coordinates of your measurement), and you measured $z_i$.  It turns out you can frame the measurements you made as a matrix multiplication:\n",
    "\n",
    "\\begin{equation}\n",
    "\\left( \\begin{smallmatrix} x_0&y_0&1 \\\\ x_1&y_1&1 \\\\ &\\dots& \\\\ x_i & y_i & 1 \\end{smallmatrix} \\right)\n",
    "\\left( \\begin{smallmatrix} a \\\\ b \\\\ c \\end{smallmatrix}\\right)\n",
    "=\n",
    "\\left( \\begin{smallmatrix} z_0 \\\\ z_1 \\\\ \\dots \\\\ z_i \\end{smallmatrix}\\right)\n",
    "\\end{equation}\n",
    "\n",
    "Let's define the first matrix to be $\\mathbf{A}$, the second vector (our parameters to solve for) as $\\vec p$, and our measurements $\\vec z$.  Then the above equation reads:\n",
    "\\begin{equation}\n",
    "\\mathbf{A}\\cdot\\vec p = \\vec z\n",
    "\\end{equation}\n",
    "Because $\\mathbf{A}$ is not a square matrix, it is not generally invertible, but $\\mathbf{A}^\\dagger \\mathbf{A}$ is.  It will be, in this case, a 3x3 matrix.  This means we can re-write the above as:\n",
    "\\begin{equation}\n",
    "\\mathbf{A}^\\dagger\\mathbf{A}\\cdot\\vec p = \\mathbf{A}^\\dagger\\vec z\n",
    "\\end{equation}\n",
    "And then, constructing the matrix inverse $(\\mathbf{A}^\\dagger\\mathbf{A})^{-1}$, and applying to both sides, we have:\n",
    "\\begin{equation}\n",
    "\\vec p = (\\mathbf{A}^\\dagger\\mathbf{A})^{-1}\\mathbf{A}^\\dagger\\vec z\n",
    "\\end{equation}\n",
    "\n",
    "The final flourish is, if not all measurements have the same noise, to do inverse-variance weighting.  If we assume our noise for each measurement is independent, we can write down a noise matrix $\\mathbf{N}$ that is diagonal and has $\\sigma_i^2$ in each row corresponding\n",
    "to the i$^{\\rm th}$ measurement.  Then $\\mathbf{N}^{-1}$ is the inverse variance weighting.\n",
    "Adding that in at the beginning, we can run through the same math to get the final answer:\n",
    "\\begin{equation}\n",
    "\\vec p = (\\mathbf{A}^\\dagger\\mathbf{N}^{-1}\\mathbf{A})^{-1}\\mathbf{A}^\\dagger\\mathbf{N}^{-1}\\vec z\n",
    "\\end{equation}"
   ]
  },
  {
   "cell_type": "code",
   "execution_count": 20,
   "metadata": {},
   "outputs": [
    {
     "name": "stdout",
     "output_type": "stream",
     "text": [
      "\n",
      "    Return the least-squares solution to a linear matrix equation.\n",
      "\n",
      "    Solves the equation `a x = b` by computing a vector `x` that\n",
      "    minimizes the Euclidean 2-norm `|| b - a x ||^2`.  The equation may\n",
      "    be under-, well-, or over- determined (i.e., the number of\n",
      "    linearly independent rows of `a` can be less than, equal to, or\n",
      "    greater than its number of linearly independent columns).  If `a`\n",
      "    is square and of full rank, then `x` (but for round-off error) is\n",
      "    the \"exact\" solution of the equation.\n",
      "\n",
      "    Parameters\n",
      "    ----------\n",
      "    a : (M, N) array_like\n",
      "        \"Coefficient\" matrix.\n",
      "    b : {(M,), (M, K)} array_like\n",
      "        Ordinate or \"dependent variable\" values. If `b` is two-dimensional,\n",
      "        the least-squares solution is calculated for each of the `K` columns\n",
      "        of `b`.\n",
      "    rcond : float, optional\n",
      "        Cut-off ratio for small singular values of `a`.\n",
      "        For the purposes of rank determination, singular values are treated\n",
      "        as zero if they are smaller than `rcond` times the largest singular\n",
      "        value of `a`.\n",
      "\n",
      "        .. versionchanged:: 1.14.0\n",
      "           If not set, a FutureWarning is given. The previous default\n",
      "           of ``-1`` will use the machine precision as `rcond` parameter,\n",
      "           the new default will use the machine precision times `max(M, N)`.\n",
      "           To silence the warning and use the new default, use ``rcond=None``,\n",
      "           to keep using the old behavior, use ``rcond=-1``.\n",
      "\n",
      "    Returns\n",
      "    -------\n",
      "    x : {(N,), (N, K)} ndarray\n",
      "        Least-squares solution. If `b` is two-dimensional,\n",
      "        the solutions are in the `K` columns of `x`.\n",
      "    residuals : {(1,), (K,), (0,)} ndarray\n",
      "        Sums of residuals; squared Euclidean 2-norm for each column in\n",
      "        ``b - a*x``.\n",
      "        If the rank of `a` is < N or M <= N, this is an empty array.\n",
      "        If `b` is 1-dimensional, this is a (1,) shape array.\n",
      "        Otherwise the shape is (K,).\n",
      "    rank : int\n",
      "        Rank of matrix `a`.\n",
      "    s : (min(M, N),) ndarray\n",
      "        Singular values of `a`.\n",
      "\n",
      "    Raises\n",
      "    ------\n",
      "    LinAlgError\n",
      "        If computation does not converge.\n",
      "\n",
      "    Notes\n",
      "    -----\n",
      "    If `b` is a matrix, then all array results are returned as matrices.\n",
      "\n",
      "    Examples\n",
      "    --------\n",
      "    Fit a line, ``y = mx + c``, through some noisy data-points:\n",
      "\n",
      "    >>> x = np.array([0, 1, 2, 3])\n",
      "    >>> y = np.array([-1, 0.2, 0.9, 2.1])\n",
      "\n",
      "    By examining the coefficients, we see that the line should have a\n",
      "    gradient of roughly 1 and cut the y-axis at, more or less, -1.\n",
      "\n",
      "    We can rewrite the line equation as ``y = Ap``, where ``A = [[x 1]]``\n",
      "    and ``p = [[m], [c]]``.  Now use `lstsq` to solve for `p`:\n",
      "\n",
      "    >>> A = np.vstack([x, np.ones(len(x))]).T\n",
      "    >>> A\n",
      "    array([[ 0.,  1.],\n",
      "           [ 1.,  1.],\n",
      "           [ 2.,  1.],\n",
      "           [ 3.,  1.]])\n",
      "\n",
      "    >>> m, c = np.linalg.lstsq(A, y, rcond=None)[0]\n",
      "    >>> print(m, c)\n",
      "    1.0 -0.95\n",
      "\n",
      "    Plot the data along with the fitted line:\n",
      "\n",
      "    >>> import matplotlib.pyplot as plt\n",
      "    >>> plt.plot(x, y, 'o', label='Original data', markersize=10)\n",
      "    >>> plt.plot(x, m*x + c, 'r', label='Fitted line')\n",
      "    >>> plt.legend()\n",
      "    >>> plt.show()\n",
      "\n",
      "    \n"
     ]
    }
   ],
   "source": [
    "print(np.linalg.lstsq.__doc__)"
   ]
  },
  {
   "cell_type": "code",
   "execution_count": 23,
   "metadata": {},
   "outputs": [
    {
     "name": "stdout",
     "output_type": "stream",
     "text": [
      "(array([2.02326413, 0.775513  ]), array([2.8835783]), 2, array([3.16227766, 2.23606798]))\n"
     ]
    }
   ],
   "source": [
    "xs = np.array([-2, -1, 0, 1, 2], dtype=np.float)\n",
    "ys = np.array([-4.0761021 , -0.61376301,  0.96543424,  3.7373177 ,  3.86467818])\n",
    "A = np.array([[-2,1],\n",
    "              [-1,1],\n",
    "              [ 0,1],\n",
    "              [ 1,1],\n",
    "              [ 2,1]])\n",
    "print(np.linalg.lstsq(A, ys, rcond=None))"
   ]
  },
  {
   "cell_type": "code",
   "execution_count": null,
   "metadata": {
    "collapsed": true
   },
   "outputs": [],
   "source": []
  }
 ],
 "metadata": {
  "kernelspec": {
   "display_name": "Python 2",
   "language": "python",
   "name": "python2"
  },
  "language_info": {
   "codemirror_mode": {
    "name": "ipython",
    "version": 2
   },
   "file_extension": ".py",
   "mimetype": "text/x-python",
   "name": "python",
   "nbconvert_exporter": "python",
   "pygments_lexer": "ipython2",
   "version": "2.7.13"
  }
 },
 "nbformat": 4,
 "nbformat_minor": 2
}

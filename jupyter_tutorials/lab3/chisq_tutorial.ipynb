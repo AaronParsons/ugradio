{
 "cells": [
  {
   "cell_type": "markdown",
   "metadata": {},
   "source": [
    "# More Advanced $\\chi^2$"
   ]
  },
  {
   "cell_type": "code",
   "execution_count": null,
   "metadata": {
    "collapsed": true
   },
   "outputs": [],
   "source": [
    "from __future__ import print_function\n",
    "%matplotlib inline\n",
    "import numpy as np, pylab as plt"
   ]
  },
  {
   "cell_type": "markdown",
   "metadata": {},
   "source": [
    "As before, suppose we have a constant function,\n",
    "\\begin{equation}\n",
    "f(x)=\\mu,\n",
    "\\end{equation}\n",
    "which we have measured at various $x_i$'s, with noise:\n",
    "\\begin{equation}\n",
    "y_i=f(x_i)+n_i,\n",
    "\\end{equation}\n",
    "Let's again assume the noise is Gaussian, but now, each measurement has a different amount of noise, each characterized by a variance of $\\sigma_i^2$."
   ]
  },
  {
   "cell_type": "code",
   "execution_count": null,
   "metadata": {
    "collapsed": true
   },
   "outputs": [],
   "source": [
    "def f(x, mu=0.):\n",
    "    return mu\n",
    "\n",
    "xs = np.array([-2, -1, 0, 1, 2], dtype=np.float)\n",
    "var = np.array([1., 1., 2., 2., 2., 2.])\n",
    "ys = np.array([-2.404, -0.956,  1.030, -1.652,  2.104, -1.195])"
   ]
  },
  {
   "cell_type": "markdown",
   "metadata": {},
   "source": [
    "What is the best estimate of $\\mu$?\n",
    "- $\\frac1N\\sum_i^N{y_i}$\n",
    "- $\\frac1N\\sum_i^N{y_i - n_i}$\n",
    "- $\\frac1{\\sum{\\sigma_i^2}}\\sum_i^N{\\sigma_i^2y_i}$\n",
    "- $\\frac1{\\sum{\\frac1{\\sigma_i^2}}}\\sum_i^N{\\frac{y_i}{\\sigma_i^2}}$"
   ]
  },
  {
   "cell_type": "code",
   "execution_count": null,
   "metadata": {
    "collapsed": true
   },
   "outputs": [],
   "source": []
  },
  {
   "cell_type": "code",
   "execution_count": null,
   "metadata": {
    "collapsed": true
   },
   "outputs": [],
   "source": []
  },
  {
   "cell_type": "code",
   "execution_count": null,
   "metadata": {
    "collapsed": true
   },
   "outputs": [],
   "source": []
  },
  {
   "cell_type": "code",
   "execution_count": null,
   "metadata": {
    "collapsed": true
   },
   "outputs": [],
   "source": []
  },
  {
   "cell_type": "code",
   "execution_count": null,
   "metadata": {
    "collapsed": true
   },
   "outputs": [],
   "source": []
  },
  {
   "cell_type": "code",
   "execution_count": null,
   "metadata": {
    "collapsed": true
   },
   "outputs": [],
   "source": []
  },
  {
   "cell_type": "code",
   "execution_count": null,
   "metadata": {
    "collapsed": true
   },
   "outputs": [],
   "source": []
  },
  {
   "cell_type": "markdown",
   "metadata": {},
   "source": [
    "Let's start doing this computationally:"
   ]
  },
  {
   "cell_type": "code",
   "execution_count": 15,
   "metadata": {},
   "outputs": [
    {
     "name": "stdout",
     "output_type": "stream",
     "text": [
      "Option 1: -0.5121666666666668\n",
      "Option 2: nan\n",
      "Option 3: -0.2785999999999999\n",
      "Option 4: -0.804125\n"
     ]
    }
   ],
   "source": [
    "N = ys.size\n",
    "option_1 = np.sum(ys) / N\n",
    "#option_2 = np.sum(ys - ns)\n",
    "option_2 = np.nan\n",
    "option_3 = 1./np.sum(var) * np.sum(var * ys)\n",
    "option_4 = 1./np.sum(1/var) * np.sum(ys / var)\n",
    "options = [option_1, option_2, option_3, option_4]\n",
    "for cnt,option in enumerate(options):\n",
    "    print('Option %d:' % (cnt+1), option)"
   ]
  },
  {
   "cell_type": "code",
   "execution_count": null,
   "metadata": {
    "collapsed": true
   },
   "outputs": [],
   "source": []
  },
  {
   "cell_type": "code",
   "execution_count": null,
   "metadata": {
    "collapsed": true
   },
   "outputs": [],
   "source": []
  },
  {
   "cell_type": "code",
   "execution_count": null,
   "metadata": {
    "collapsed": true
   },
   "outputs": [],
   "source": []
  },
  {
   "cell_type": "code",
   "execution_count": null,
   "metadata": {
    "collapsed": true
   },
   "outputs": [],
   "source": []
  },
  {
   "cell_type": "code",
   "execution_count": null,
   "metadata": {
    "collapsed": true
   },
   "outputs": [],
   "source": []
  },
  {
   "cell_type": "markdown",
   "metadata": {},
   "source": [
    "So what was the answer? $\\mu = -2$"
   ]
  },
  {
   "cell_type": "code",
   "execution_count": 16,
   "metadata": {},
   "outputs": [
    {
     "name": "stdout",
     "output_type": "stream",
     "text": [
      "Option 1: 1.4878333333333331\n",
      "Option 2: nan\n",
      "Option 3: 1.7214\n",
      "Option 4: 1.195875\n"
     ]
    }
   ],
   "source": [
    "mu = -2\n",
    "for cnt, option in enumerate(options):\n",
    "    print('Option %d:' % (cnt+1), np.abs(option - mu))"
   ]
  },
  {
   "cell_type": "markdown",
   "metadata": {},
   "source": [
    "The lesson here (which becomes more dramatic for increased $N$) is that *inverse variance* weighting is the most\n",
    "sensitive weighting scheme: it minimizes the variance of the final answer.\n",
    "\n",
    "For a proof, see https://en.wikipedia.org/wiki/Inverse-variance_weighting#Derivation\n"
   ]
  },
  {
   "cell_type": "markdown",
   "metadata": {},
   "source": [
    "## The Big Guns\n",
    "\n",
    "If you have a linear problem you are trying to solve (or if you can linearize it), you can do *much* better than this iterative mumbo-jumbo.  You can solve it in one shot!  Let's go back to our $y_i = mx_i +b + n_i$ example, but extend it to two dimensions: $z_i = ax_i+by_i+c + n_i$\n",
    "\n",
    "You know what $x_i$ and $y_i$ are (they are the coordinates of your measurement), and you measured $z_i$.  It turns out you can frame the measurements you made as a matrix multiplication:\n",
    "\n",
    "\\begin{equation}\n",
    "\\left( \\begin{smallmatrix} x_0&y_0&1 \\\\ x_1&y_1&1 \\\\ &\\dots& \\\\ x_i & y_i & 1 \\end{smallmatrix} \\right)\n",
    "\\left( \\begin{smallmatrix} a \\\\ b \\\\ c \\end{smallmatrix}\\right)\n",
    "=\n",
    "\\left( \\begin{smallmatrix} z_0 \\\\ z_1 \\\\ \\dots \\\\ z_i \\end{smallmatrix}\\right)\n",
    "\\end{equation}\n",
    "\n",
    "Let's define the first matrix to be $\\mathbf{A}$, the second vector (our parameters to solve for) as $\\vec p$, and our measurements $\\vec z$.  Then the above equation reads:\n",
    "\\begin{equation}\n",
    "\\mathbf{A}\\cdot\\vec p = \\vec z\n",
    "\\end{equation}\n",
    "Because $\\mathbf{A}$ is not a square matrix, it is not generally invertible, but $\\mathbf{A}^\\dagger \\mathbf{A}$ is.  It will be, in this case, a 3x3 matrix.  This means we can re-write the above as:\n",
    "\\begin{equation}\n",
    "\\mathbf{A}^\\dagger\\mathbf{A}\\cdot\\vec p = \\mathbf{A}^\\dagger\\vec z\n",
    "\\end{equation}\n",
    "And then, constructing the matrix inverse $(\\mathbf{A}^\\dagger\\mathbf{A})^{-1}$, and applying to both sides, we have:\n",
    "\\begin{equation}\n",
    "\\vec p = (\\mathbf{A}^\\dagger\\mathbf{A})^{-1}\\mathbf{A}^\\dagger\\vec z\n",
    "\\end{equation}\n",
    "\n",
    "The final flourish is, if not all measurements have the same noise, to do inverse-variance weighting.  If we assume our noise for each measurement is independent, we can write down a noise matrix $\\mathbf{N}$ that is diagonal and has $\\sigma_i^2$ in each row corresponding\n",
    "to the i$^{\\rm th}$ measurement.  Then $\\mathbf{N}^{-1}$ is the inverse variance weighting.\n",
    "Adding that in at the beginning, we can run through the same math to get the final answer:\n",
    "\\begin{equation}\n",
    "\\vec p = (\\mathbf{A}^\\dagger\\mathbf{N}^{-1}\\mathbf{A})^{-1}\\mathbf{A}^\\dagger\\mathbf{N}^{-1}\\vec z\n",
    "\\end{equation}"
   ]
  },
  {
   "cell_type": "code",
   "execution_count": null,
   "metadata": {
    "collapsed": true
   },
   "outputs": [],
   "source": [
    "print(np.linalg.lstsq.__doc__)"
   ]
  },
  {
   "cell_type": "code",
   "execution_count": null,
   "metadata": {
    "collapsed": true
   },
   "outputs": [],
   "source": [
    "xs = np.array([-2, -1, 0, 1, 2], dtype=np.float)\n",
    "ys = np.array([-4.0761021 , -0.61376301,  0.96543424,  3.7373177 ,  3.86467818])\n",
    "A = np.array([[-2,1],\n",
    "              [-1,1],\n",
    "              [ 0,1],\n",
    "              [ 1,1],\n",
    "              [ 2,1]])\n",
    "print(np.linalg.lstsq(A, ys, rcond=None))"
   ]
  },
  {
   "cell_type": "code",
   "execution_count": null,
   "metadata": {
    "collapsed": true
   },
   "outputs": [],
   "source": []
  }
 ],
 "metadata": {
  "kernelspec": {
   "display_name": "Python 2",
   "language": "python",
   "name": "python2"
  },
  "language_info": {
   "codemirror_mode": {
    "name": "ipython",
    "version": 2
   },
   "file_extension": ".py",
   "mimetype": "text/x-python",
   "name": "python",
   "nbconvert_exporter": "python",
   "pygments_lexer": "ipython2",
   "version": "2.7.17"
  }
 },
 "nbformat": 4,
 "nbformat_minor": 2
}

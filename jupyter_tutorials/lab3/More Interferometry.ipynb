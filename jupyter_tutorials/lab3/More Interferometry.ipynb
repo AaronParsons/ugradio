{
 "cells": [
  {
   "cell_type": "code",
   "execution_count": 14,
   "metadata": {},
   "outputs": [],
   "source": [
    "%matplotlib notebook\n",
    "import numpy as np\n",
    "import matplotlib.pyplot as plt\n",
    "import matplotlib.gridspec as gridspec"
   ]
  },
  {
   "cell_type": "code",
   "execution_count": 15,
   "metadata": {},
   "outputs": [],
   "source": [
    "SIZE = 2048\n",
    "theta = np.linspace(-np.pi/2, np.pi/2, SIZE)\n",
    "bl = 1000. # baseline, cm east-west\n",
    "fq = 100e6 # spectral frequency, Hz\n",
    "c = 3e10 # speed of light, cm / s"
   ]
  },
  {
   "cell_type": "markdown",
   "metadata": {},
   "source": [
    "## Visualizing the Fringe Pattern\n",
    "\n",
    "Recall that we derived the equation for a visibility:\n",
    "\\begin{equation}\n",
    "V(\\vec b, \\nu) = \\int{A(\\hat s)\\cdot I(\\hat s)\\cdot e^{-2\\pi i \\vec b \\cdot \\hat s / \\lambda} d\\Omega}\n",
    "\\end{equation}\n",
    "\n",
    "Below, we are going to take a look at the ``fringe\" term of this integral---the $e^{-2\\pi i \\vec b \\cdot \\hat s / \\lambda}$ part that represents the direction-dependent phase response of a baseline.\n",
    "\n",
    "We will do this in 1D, so that $\\vec b\\cdot \\hat s$ reduces to $b\\sin\\theta$ for $\\theta$ being an angle from zenith."
   ]
  },
  {
   "cell_type": "code",
   "execution_count": 16,
   "metadata": {},
   "outputs": [
    {
     "data": {
      "application/vnd.jupyter.widget-view+json": {
       "model_id": "93b135aa9e364370927464f7dd262188",
       "version_major": 2,
       "version_minor": 0
      },
      "text/plain": [
       "interactive(children=(IntSlider(value=1000, description='bl', max=1500, min=500), Output()), _dom_classes=('wi…"
      ]
     },
     "metadata": {},
     "output_type": "display_data"
    }
   ],
   "source": [
    "# This is an interactive plot where you can change\n",
    "# the length of a baseline and see the change in the\n",
    "# fringe pattern for a fixed frequency.\n",
    "\n",
    "%matplotlib inline\n",
    "from ipywidgets import interact\n",
    "\n",
    "def plt_fringe(bl):\n",
    "    plt.figure(figsize=(5,5))\n",
    "    plt.clf()\n",
    "    ax2 = plt.subplot(111,projection='polar')\n",
    "    fringe_pattern = np.exp(-2j * np.pi * bl * np.sin(theta) / c * fq)\n",
    "    plt.polar(theta, 0.1 * fringe_pattern.real + 1)\n",
    "    ax2.set_theta_offset(np.pi/2)\n",
    "    ax2.set_yticks([])\n",
    "    ax2.set_thetamin(-90)\n",
    "    ax2.set_thetamax(90)\n",
    "    plt.title('Fringe versus Angle')\n",
    "    plt.show()\n",
    "    \n",
    "i = interact(plt_fringe, bl=(500, 1500))"
   ]
  },
  {
   "cell_type": "markdown",
   "metadata": {},
   "source": [
    "Of course, with a dish, we can only see part of the sky at a time (not the whole fringe pattern)."
   ]
  },
  {
   "cell_type": "code",
   "execution_count": 17,
   "metadata": {},
   "outputs": [
    {
     "data": {
      "application/vnd.jupyter.widget-view+json": {
       "model_id": "ab72cf2f6cdd468e880bb83fb6af3d98",
       "version_major": 2,
       "version_minor": 0
      },
      "text/plain": [
       "interactive(children=(FloatSlider(value=0.0, description='point', max=1.5707963267948966, min=-1.5707963267948…"
      ]
     },
     "metadata": {},
     "output_type": "display_data"
    }
   ],
   "source": [
    "bl = 4000. # cm\n",
    "\n",
    "def plt_beam(point):\n",
    "    plt.figure(figsize=(5,5))\n",
    "    plt.clf()\n",
    "    ax2 = plt.subplot(111,projection='polar')\n",
    "    beam_pattern = np.exp(-(theta+point)**2 / (2 * 0.1**2)) # Gaussian beam pattern\n",
    "    fringe_pattern = np.exp(-2j * np.pi * bl * np.sin(theta) / c * fq)\n",
    "    plt.polar(theta, 0.1 * fringe_pattern.real + 1)\n",
    "    plt.polar(theta, 0.1 * beam_pattern * fringe_pattern.real + 1)\n",
    "    plt.polar(theta, beam_pattern)\n",
    "    ax2.set_theta_offset(np.pi/2)\n",
    "    ax2.set_yticks([])\n",
    "    ax2.set_thetamin(-90)\n",
    "    ax2.set_thetamax(90)\n",
    "    plt.title('Response versus Angle')\n",
    "    plt.show()\n",
    "    \n",
    "i = interact(plt_beam, point=(-np.pi/2,np.pi/2))"
   ]
  },
  {
   "cell_type": "markdown",
   "metadata": {},
   "source": [
    "## Synthesis Imaging\n",
    "\n",
    "In this section, we explore the Fourier relationship between\n",
    "the visibility measured by the interferometer and the\n",
    "distribution of intensity on the sky.\n",
    "\n",
    "We derived in class that, for the small-angle approximation\n",
    "where $\\ell\\equiv\\sin\\theta_x\\approx\\theta_x$ and \n",
    "$m\\equiv\\sin\\theta_y\\approx\\theta_y$, we had the relationship:\n",
    "\\begin{equation}\n",
    "V(u,v)= e^{-2\\pi i w} \\int\\!\\!\\int{A(\\theta_x,\\theta_y) \\cdot\n",
    "I(\\theta_x,\\theta_y) \\cdot\n",
    "e^{-2\\pi i (u\\theta_x + v\\theta_y)} d\\theta_x\\ d\\theta_y}\n",
    "\\end{equation}"
   ]
  },
  {
   "cell_type": "code",
   "execution_count": 22,
   "metadata": {},
   "outputs": [
    {
     "data": {
      "image/png": "[encoded data removed]",
      "text/plain": [
       "<Figure size 432x288 with 1 Axes>"
      ]
     },
     "metadata": {
      "needs_background": "light"
     },
     "output_type": "display_data"
    }
   ],
   "source": [
    "# Now let's make something to put up on the sky: a picture\n",
    "\n",
    "I_sky = np.zeros(SIZE)\n",
    "I_sky[SIZE//5:4*SIZE//5] = 1\n",
    "I_sky[SIZE//4:3*SIZE//4] = 2\n",
    "I_sky[SIZE//3:2*SIZE//3] = 3\n",
    "I_sky[3*SIZE//8] = 10\n",
    "I_sky[5*SIZE//8] = 20\n",
    "\n",
    "plt.figure()\n",
    "plt.title('$I_{\\\\rm sky}$', fontsize=16)\n",
    "plt.plot(theta, I_sky)\n",
    "plt.ylabel('Intensity')\n",
    "_ = plt.xlabel('Angle [radians]')"
   ]
  },
  {
   "cell_type": "markdown",
   "metadata": {},
   "source": [
    "Great. And this intensity is laid out on the (curved) sky where it is integrated over by the fringe pattern of our interferometer:"
   ]
  },
  {
   "cell_type": "code",
   "execution_count": 23,
   "metadata": {},
   "outputs": [
    {
     "data": {
      "image/png": "[encoded data removed]",
      "text/plain": [
       "<Figure size 432x288 with 1 Axes>"
      ]
     },
     "metadata": {
      "needs_background": "light"
     },
     "output_type": "display_data"
    }
   ],
   "source": [
    "# Overlay the fringe pattern and the intensity on the sky\n",
    "\n",
    "ax = plt.subplot(111,projection='polar')\n",
    "fringe_pattern = np.exp(-2j * np.pi * bl * np.sin(theta) / c * fq)\n",
    "plt.polar(theta, 0.1 * fringe_pattern.real + 1)\n",
    "plt.polar(theta, 1 + np.log10(I_sky.real + 1))\n",
    "ax.set_theta_offset(np.pi/2)\n",
    "ax.set_yticks([])\n",
    "ax.set_thetamin(-90)\n",
    "ax.set_thetamax(90)\n",
    "_ = plt.title(r'$I_{\\rm sky}\\cdot e^{-2\\pi i \\vec b \\cdot \\hat s / \\lambda}$', fontsize=20)"
   ]
  },
  {
   "cell_type": "markdown",
   "metadata": {},
   "source": [
    "Now, instead of one interferometer observing the sky and integrating\n",
    "one fringe pattern, we will use a bunch: here, 2500 baselines of different\n",
    "lengths. If you are efficient (look at ``Goloumb Rulers\" on Wikipedia), you might be able to do this with $\\sim$70 dishes."
   ]
  },
  {
   "cell_type": "code",
   "execution_count": 24,
   "metadata": {},
   "outputs": [],
   "source": [
    "# Integrate a fringe pattern against the sky for many baselines\n",
    "bls = np.linspace(0, 50000, 2500)\n",
    "V = {} # visibilities\n",
    "for bl in bls:\n",
    "    fringe_pattern = np.exp(-2j * np.pi * bl * np.sin(theta) / c * fq)\n",
    "    V[bl] = np.sum(I_sky * fringe_pattern)"
   ]
  },
  {
   "cell_type": "markdown",
   "metadata": {},
   "source": [
    "Now, to prove how awesome interferometers are, we will put all the different $V(u,v=0)$ visibilities we created onto what is called the ``$uv$ plane\", where $u$ and $v$ describe the inverse angles that are the Fourier complement to $\\theta_x$ and $\\theta_y$.  Below, we grid our interferometer's measurements into an array so that each bin of the array is characterized by a $u$ coordinate and contains the visibility measured at that $u$."
   ]
  },
  {
   "cell_type": "code",
   "execution_count": 25,
   "metadata": {},
   "outputs": [],
   "source": [
    "# \n",
    "UMAX = 250\n",
    "URES = 0.5\n",
    "USIZE = int(UMAX / URES)\n",
    "u_coord = np.linspace(-UMAX, UMAX, USIZE, endpoint=False)\n",
    "u_coord = np.fft.fftshift(u_coord)\n",
    "u_plane = np.zeros(USIZE, dtype=complex)\n",
    "u_sampl = np.zeros(USIZE, dtype=complex)\n",
    "for bl,vis in V.items():\n",
    "    u_bin = int(np.around(bl * fq / c / URES))\n",
    "    u_plane[u_bin] += vis\n",
    "    u_sampl[u_bin] += 1\n",
    "    u_plane[-u_bin] += vis.conj()\n",
    "    u_sampl[-u_bin] += 1\n",
    "u_plane /= np.where(u_sampl > 0, u_sampl, 1)"
   ]
  },
  {
   "cell_type": "code",
   "execution_count": 26,
   "metadata": {},
   "outputs": [
    {
     "data": {
      "image/png": "[encoded data removed]",
      "text/plain": [
       "<Figure size 432x288 with 1 Axes>"
      ]
     },
     "metadata": {
      "needs_background": "light"
     },
     "output_type": "display_data"
    }
   ],
   "source": [
    "plt.figure()\n",
    "plt.plot(np.fft.fftshift(u_coord), np.fft.fftshift(u_plane.real), label='real')\n",
    "plt.plot(np.fft.fftshift(u_coord), np.fft.fftshift(u_plane.imag), label='imag')\n",
    "plt.ylabel('Visibility [Jy]')\n",
    "plt.xlabel('$u$ [baseline in wavelengths]')\n",
    "_ = plt.legend(loc='best')"
   ]
  },
  {
   "cell_type": "markdown",
   "metadata": {},
   "source": [
    "Ok, now for the big test. We've suggested that the array above, representing the $uv$ plane, should be the Fourier transform of the sky. Is it?"
   ]
  },
  {
   "cell_type": "code",
   "execution_count": 27,
   "metadata": {},
   "outputs": [
    {
     "name": "stderr",
     "output_type": "stream",
     "text": [
      "/usr/local/lib/python3.7/dist-packages/numpy/core/_asarray.py:85: ComplexWarning: Casting complex values to real discards the imaginary part\n",
      "  return array(a, dtype, copy=False, order=order)\n"
     ]
    },
    {
     "data": {
      "image/png": "[encoded data removed]",
      "text/plain": [
       "<Figure size 432x432 with 1 Axes>"
      ]
     },
     "metadata": {
      "needs_background": "light"
     },
     "output_type": "display_data"
    }
   ],
   "source": [
    "%matplotlib inline\n",
    "I_sky_reconstruct = np.fft.ifft(u_plane)\n",
    "x = np.fft.fftfreq(USIZE, URES)\n",
    "plt.figure(figsize=(6,6))\n",
    "plt.plot(np.fft.fftshift(x), np.fft.fftshift(I_sky_reconstruct))\n",
    "plt.plot(np.sin(theta), I_sky)\n",
    "plt.ylabel('Intensity', fontsize=20)\n",
    "plt.xlabel(r'$\\sin(\\theta_x)$', fontsize=20)\n",
    "plt.show()"
   ]
  },
  {
   "cell_type": "markdown",
   "metadata": {},
   "source": [
    "What we got was definitely related to $I_{\\rm sky}$, although there are some discrepencies. For one, there seems to be an amplitude difference that is direction dependent. This comes from the Jacobian (size of differential chunks) because interferometers ``see\" the sky in $\\sin\\theta$, while flux is natively distributed in $\\theta$.\n",
    "\n",
    "We also see ther are some weird artifacts: some $\\sin x/x$ ringing around point sources, some bumps around the edges of our step functions.  Where do you think these come from?"
   ]
  },
  {
   "cell_type": "code",
   "execution_count": null,
   "metadata": {},
   "outputs": [],
   "source": []
  },
  {
   "cell_type": "code",
   "execution_count": null,
   "metadata": {},
   "outputs": [],
   "source": []
  }
 ],
 "metadata": {
  "kernelspec": {
   "display_name": "Python 3",
   "language": "python",
   "name": "python3"
  },
  "language_info": {
   "codemirror_mode": {
    "name": "ipython",
    "version": 3
   },
   "file_extension": ".py",
   "mimetype": "text/x-python",
   "name": "python",
   "nbconvert_exporter": "python",
   "pygments_lexer": "ipython3",
   "version": "3.7.5"
  }
 },
 "nbformat": 4,
 "nbformat_minor": 2
}

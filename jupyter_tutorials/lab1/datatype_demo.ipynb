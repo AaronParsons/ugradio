{
 "cells": [
  {
   "cell_type": "markdown",
   "metadata": {},
   "source": [
    "# Mommy Fortuna's Midnight Carnival of Python Oddities"
   ]
  },
  {
   "cell_type": "markdown",
   "metadata": {},
   "source": [
    "## Exhibit 1: The Wonders and Pitfalls of Promotion\n",
    "\n",
    "Numerical variables in the Python language have associated data types,\n",
    "but you may not have noticed because Python automatically\n",
    "converts between them.  However, the behavior of this conversion\n",
    "can depend on the data type, so be careful."
   ]
  },
  {
   "cell_type": "code",
   "execution_count": 1,
   "metadata": {
    "collapsed": false
   },
   "outputs": [
    {
     "name": "stdout",
     "output_type": "stream",
     "text": [
      "0.5\n",
      "0\n",
      "0.5\n",
      "0\n"
     ]
    }
   ],
   "source": [
    "print 1.0/2 # a float divided by an integer\n",
    "print 1/2 # Python2 behavior (restart if overwritten by next line)\n",
    "from __future__ import division # Python3 behavior\n",
    "print 1/2\n",
    "print 1 // 2 # Python3 nomenclature for integer division"
   ]
  },
  {
   "cell_type": "code",
   "execution_count": 4,
   "metadata": {
    "collapsed": false
   },
   "outputs": [
    {
     "name": "stdout",
     "output_type": "stream",
     "text": [
      "[0, 0]\n"
     ]
    },
    {
     "ename": "TypeError",
     "evalue": "can't multiply sequence by non-int of type 'float'",
     "output_type": "error",
     "traceback": [
      "\u001b[0;31m---------------------------------------------------------------------------\u001b[0m",
      "\u001b[0;31mTypeError\u001b[0m                                 Traceback (most recent call last)",
      "\u001b[0;32m<ipython-input-4-4cbc74c69e0f>\u001b[0m in \u001b[0;36m<module>\u001b[0;34m()\u001b[0m\n\u001b[1;32m      1\u001b[0m \u001b[0;32mprint\u001b[0m \u001b[0;34m[\u001b[0m\u001b[0;36m0\u001b[0m\u001b[0;34m]\u001b[0m \u001b[0;34m*\u001b[0m \u001b[0;36m2\u001b[0m \u001b[0;31m# list times an integer\u001b[0m\u001b[0;34m\u001b[0m\u001b[0m\n\u001b[0;32m----> 2\u001b[0;31m \u001b[0;32mprint\u001b[0m \u001b[0;34m[\u001b[0m\u001b[0;36m0\u001b[0m\u001b[0;34m]\u001b[0m \u001b[0;34m*\u001b[0m \u001b[0;36m2.\u001b[0m \u001b[0;31m# list times a float causes an exception\u001b[0m\u001b[0;34m\u001b[0m\u001b[0m\n\u001b[0m",
      "\u001b[0;31mTypeError\u001b[0m: can't multiply sequence by non-int of type 'float'"
     ]
    }
   ],
   "source": [
    "print [0] * 2 # list times an integer\n",
    "print [0] * 2. # list times a float causes an exception"
   ]
  },
  {
   "cell_type": "markdown",
   "metadata": {},
   "source": [
    "## Exhibit 2: Precision, and the Lack Thereof\n",
    "\n",
    "Numpy has a stricter notation of data types.  The data type of\n",
    "an array is static, but numpy will promote data types when\n",
    "you perform an operation that creates a new array.   Numpy\n",
    "data types often behave differently than their Python cousins."
   ]
  },
  {
   "cell_type": "code",
   "execution_count": 6,
   "metadata": {
    "collapsed": false
   },
   "outputs": [
    {
     "name": "stdout",
     "output_type": "stream",
     "text": [
      "int64\n",
      "float64\n"
     ]
    },
    {
     "ename": "TypeError",
     "evalue": "Cannot cast ufunc multiply output from dtype('float64') to dtype('int64') with casting rule 'same_kind'",
     "output_type": "error",
     "traceback": [
      "\u001b[0;31m---------------------------------------------------------------------------\u001b[0m",
      "\u001b[0;31mTypeError\u001b[0m                                 Traceback (most recent call last)",
      "\u001b[0;32m<ipython-input-6-99416dcf3683>\u001b[0m in \u001b[0;36m<module>\u001b[0;34m()\u001b[0m\n\u001b[1;32m      3\u001b[0m \u001b[0;32mprint\u001b[0m \u001b[0mx\u001b[0m\u001b[0;34m.\u001b[0m\u001b[0mdtype\u001b[0m\u001b[0;34m\u001b[0m\u001b[0m\n\u001b[1;32m      4\u001b[0m \u001b[0;32mprint\u001b[0m \u001b[0;34m(\u001b[0m\u001b[0mx\u001b[0m \u001b[0;34m*\u001b[0m \u001b[0;36m1.\u001b[0m\u001b[0;34m)\u001b[0m\u001b[0;34m.\u001b[0m\u001b[0mdtype\u001b[0m \u001b[0;31m# a new array is created with promoted type\u001b[0m\u001b[0;34m\u001b[0m\u001b[0m\n\u001b[0;32m----> 5\u001b[0;31m \u001b[0mx\u001b[0m \u001b[0;34m*=\u001b[0m \u001b[0;36m1.\u001b[0m \u001b[0;31m# error: the new promoted array cannot be assigned to the original\u001b[0m\u001b[0;34m\u001b[0m\u001b[0m\n\u001b[0m",
      "\u001b[0;31mTypeError\u001b[0m: Cannot cast ufunc multiply output from dtype('float64') to dtype('int64') with casting rule 'same_kind'"
     ]
    }
   ],
   "source": [
    "import numpy as np\n",
    "x = np.array([0, 1, 2])\n",
    "print x.dtype\n",
    "print (x * 1.).dtype # a new array is created with promoted type\n",
    "x *= 1. # error: the new promoted array cannot be assigned to the original"
   ]
  },
  {
   "cell_type": "markdown",
   "metadata": {},
   "source": [
    "Depending on the data type, results can only be represented with a finite precision."
   ]
  },
  {
   "cell_type": "code",
   "execution_count": 10,
   "metadata": {
    "collapsed": false
   },
   "outputs": [
    {
     "name": "stdout",
     "output_type": "stream",
     "text": [
      "<type 'numpy.int16'> 5.0\n",
      "<type 'numpy.int32'> 5.0\n",
      "<type 'numpy.int64'> 5.0\n",
      "<type 'numpy.float32'> 4.99999988079\n",
      "<type 'numpy.float64'> 5.0\n"
     ]
    }
   ],
   "source": [
    "dtypes = [np.int16, np.int32, np.int64, np.float32, np.float64]\n",
    "\n",
    "for dtype in dtypes:\n",
    "    data = np.array([1,1,3],dtype=dtype)\n",
    "    print dtype, np.average(data) * 3"
   ]
  },
  {
   "cell_type": "markdown",
   "metadata": {},
   "source": [
    "Beware the finite precision of floats!"
   ]
  },
  {
   "cell_type": "code",
   "execution_count": 11,
   "metadata": {
    "collapsed": false
   },
   "outputs": [
    {
     "name": "stdout",
     "output_type": "stream",
     "text": [
      "<type 'numpy.int16'> [0]\n",
      "<type 'numpy.int32'> [-2147483648]\n",
      "<type 'numpy.int64'> [2147483648]\n",
      "<type 'numpy.float32'> [  2.14748365e+09]\n",
      "<type 'numpy.float64'> [  2.14748365e+09]\n"
     ]
    }
   ],
   "source": [
    "for dtype in dtypes:\n",
    "    print dtype, np.array([2], dtype=dtype)**31"
   ]
  },
  {
   "cell_type": "code",
   "execution_count": 12,
   "metadata": {
    "collapsed": false
   },
   "outputs": [
    {
     "name": "stdout",
     "output_type": "stream",
     "text": [
      "1.22464679915e-16 6.12323399574e-17\n"
     ]
    }
   ],
   "source": [
    "print np.sin(np.pi), np.cos(np.pi/2)"
   ]
  },
  {
   "cell_type": "markdown",
   "metadata": {},
   "source": [
    "For large values, integers may wrap and floats may behave unexpectedly."
   ]
  },
  {
   "cell_type": "code",
   "execution_count": 13,
   "metadata": {
    "collapsed": false
   },
   "outputs": [
    {
     "name": "stdout",
     "output_type": "stream",
     "text": [
      "<type 'numpy.int16'> [-1073741823]\n",
      "<type 'numpy.int32'> [1]\n",
      "<type 'numpy.int64'> [1]\n",
      "<type 'numpy.float32'> [ 0.]\n",
      "<type 'numpy.float64'> [ 1.]\n"
     ]
    }
   ],
   "source": [
    "for dtype in dtypes:\n",
    "    big_number = np.array([2], dtype=dtype)**30\n",
    "    print dtype, (big_number + 1) - 2**30"
   ]
  },
  {
   "cell_type": "code",
   "execution_count": 14,
   "metadata": {
    "collapsed": false
   },
   "outputs": [
    {
     "name": "stdout",
     "output_type": "stream",
     "text": [
      "inf\n",
      "1000.0\n"
     ]
    },
    {
     "name": "stderr",
     "output_type": "stream",
     "text": [
      "/usr/local/lib/python2.7/dist-packages/ipykernel/__main__.py:1: RuntimeWarning: overflow encountered in exp\n",
      "  if __name__ == '__main__':\n"
     ]
    }
   ],
   "source": [
    "print np.log(np.exp(1000))\n",
    "print np.exp(np.log(1000))"
   ]
  },
  {
   "cell_type": "code",
   "execution_count": 15,
   "metadata": {
    "collapsed": false
   },
   "outputs": [
    {
     "name": "stdout",
     "output_type": "stream",
     "text": [
      "[ inf]\n"
     ]
    },
    {
     "name": "stderr",
     "output_type": "stream",
     "text": [
      "/usr/local/lib/python2.7/dist-packages/ipykernel/__main__.py:1: RuntimeWarning: divide by zero encountered in true_divide\n",
      "  if __name__ == '__main__':\n"
     ]
    },
    {
     "ename": "ZeroDivisionError",
     "evalue": "float division by zero",
     "output_type": "error",
     "traceback": [
      "\u001b[0;31m---------------------------------------------------------------------------\u001b[0m",
      "\u001b[0;31mZeroDivisionError\u001b[0m                         Traceback (most recent call last)",
      "\u001b[0;32m<ipython-input-15-494316e8def7>\u001b[0m in \u001b[0;36m<module>\u001b[0;34m()\u001b[0m\n\u001b[1;32m      1\u001b[0m \u001b[0;32mprint\u001b[0m \u001b[0mnp\u001b[0m\u001b[0;34m.\u001b[0m\u001b[0marray\u001b[0m\u001b[0;34m(\u001b[0m\u001b[0;34m[\u001b[0m\u001b[0;36m1.\u001b[0m\u001b[0;34m]\u001b[0m\u001b[0;34m)\u001b[0m\u001b[0;34m/\u001b[0m\u001b[0;36m0\u001b[0m\u001b[0;34m\u001b[0m\u001b[0m\n\u001b[0;32m----> 2\u001b[0;31m \u001b[0;32mprint\u001b[0m \u001b[0;36m1.\u001b[0m\u001b[0;34m/\u001b[0m\u001b[0;36m0\u001b[0m\u001b[0;34m\u001b[0m\u001b[0m\n\u001b[0m",
      "\u001b[0;31mZeroDivisionError\u001b[0m: float division by zero"
     ]
    }
   ],
   "source": [
    "print np.array([1.])/0\n",
    "print 1./0"
   ]
  },
  {
   "cell_type": "markdown",
   "metadata": {},
   "source": [
    "## Exhibit 3: Numerical Instability\n",
    "\n",
    "Numerical precision can have unexpected effects on numerical code.\n",
    "For example, polynomial fitting grows unstable for large-degree polynimals.\n",
    "Numerical stability is tricky to track down and can be platform dependent."
   ]
  },
  {
   "cell_type": "code",
   "execution_count": 16,
   "metadata": {
    "collapsed": false
   },
   "outputs": [
    {
     "name": "stderr",
     "output_type": "stream",
     "text": [
      "/usr/local/lib/python2.7/dist-packages/ipykernel/__main__.py:5: RankWarning: Polyfit may be poorly conditioned\n"
     ]
    },
    {
     "data": {
      "image/png": "[encoded data removed]",
      "text/plain": [
       "<matplotlib.figure.Figure at 0x7f1f5e1b71d0>"
      ]
     },
     "metadata": {},
     "output_type": "display_data"
    }
   ],
   "source": [
    "x = np.linspace(0,2,1024)\n",
    "y = 3*x + 1 # fitting to linear data should ideally be perfect\n",
    "p1 = np.polyfit(x,y,deg=1)\n",
    "p2 = np.polyfit(x,y,deg=2)\n",
    "p20 = np.polyfit(x,y,deg=20)\n",
    "%matplotlib inline\n",
    "import pylab as plt\n",
    "plt.title(\"Higher-degree polynomials aren't always better.\")\n",
    "plt.semilogy(x, np.abs(np.polyval(p1, x) - y), 'b')\n",
    "plt.semilogy(x, np.abs(np.polyval(p2, x) - y), 'g')\n",
    "plt.semilogy(x, np.abs(np.polyval(p20, x) - y), 'r')\n",
    "plt.show()"
   ]
  },
  {
   "cell_type": "markdown",
   "metadata": {},
   "source": [
    "## Exhibit 4: When is a Duck When it Isn't\n",
    "\n",
    "Sometimes, variables are completely independent from each other.  Sometimes\n",
    "they actually refer to the same underlying object.  Python calls\n",
    "this behavior 'mutability'.  Some data types are mutable (variables point\n",
    "to the same object), while others are immutable."
   ]
  },
  {
   "cell_type": "code",
   "execution_count": 20,
   "metadata": {
    "collapsed": false
   },
   "outputs": [
    {
     "name": "stdout",
     "output_type": "stream",
     "text": [
      "2 1\n",
      "[2] [2]\n"
     ]
    }
   ],
   "source": [
    "a = 1\n",
    "b = a\n",
    "a = 2\n",
    "print a, b\n",
    "a = [1]\n",
    "b = a\n",
    "a[0] = 2\n",
    "print a, b"
   ]
  },
  {
   "cell_type": "code",
   "execution_count": 22,
   "metadata": {
    "collapsed": false
   },
   "outputs": [
    {
     "name": "stdout",
     "output_type": "stream",
     "text": [
      "2 1\n",
      "[1, 1] [1, 1]\n",
      "(1, 1) (1,)\n"
     ]
    }
   ],
   "source": [
    "def double_it(x):\n",
    "    x *= 2\n",
    "    return x\n",
    "\n",
    "a = 1\n",
    "print double_it(a), a\n",
    "a = [1]\n",
    "print double_it(a), a\n",
    "a = (1,)\n",
    "print double_it(a), a"
   ]
  },
  {
   "cell_type": "code",
   "execution_count": 24,
   "metadata": {
    "collapsed": false
   },
   "outputs": [
    {
     "name": "stdout",
     "output_type": "stream",
     "text": [
      "[0, 3, 0, 0, 0]\n",
      "[[3], [3], [3], [3], [3]]\n"
     ]
    }
   ],
   "source": [
    "x = [0] * 5\n",
    "x[1] = 3\n",
    "print x\n",
    "x = [[0]] * 5\n",
    "x[1][0] = 3\n",
    "print x"
   ]
  },
  {
   "cell_type": "markdown",
   "metadata": {},
   "source": [
    "## Exhibit 5: Disorder\n",
    "\n",
    "Some attributes, notably the iteration order of dictionaries, are\n",
    "arbitrary and change between platforms, or even between serialization\n",
    "and de-serialization (e.g. when writing to disk).  Good code should\n",
    "not rely on aspects of these attributes that are not guaranteed."
   ]
  },
  {
   "cell_type": "code",
   "execution_count": 23,
   "metadata": {
    "collapsed": false
   },
   "outputs": [
    {
     "name": "stdout",
     "output_type": "stream",
     "text": [
      "['fish', 'duck', 'seal', 'mouse', 'cow', 'fox', 'dog', 'frog', 'cat', 'elephant', 'bird']\n",
      "['elephant', 'cow', 'fish', 'duck', 'fox', 'dog', 'frog', 'cat', 'seal', 'mouse', 'bird']\n"
     ]
    }
   ],
   "source": [
    "import cPickle\n",
    "d = {'dog':'woof','cat':'meow','bird':'tweet',\n",
    "     'mouse':'squeak','cow':'moo', 'frog':'croak',\n",
    "     'elephant':'toot','duck':'quack','fish':'blub',\n",
    "     'seal':'ow ow ow','fox':None}\n",
    "print d.keys()\n",
    "s = cPickle.dumps(d)\n",
    "d2 = cPickle.loads(s)\n",
    "print d2.keys()"
   ]
  },
  {
   "cell_type": "code",
   "execution_count": null,
   "metadata": {
    "collapsed": true
   },
   "outputs": [],
   "source": []
  }
 ],
 "metadata": {
  "kernelspec": {
   "display_name": "Python 2",
   "language": "python",
   "name": "python2"
  },
  "language_info": {
   "codemirror_mode": {
    "name": "ipython",
    "version": 2
   },
   "file_extension": ".py",
   "mimetype": "text/x-python",
   "name": "python",
   "nbconvert_exporter": "python",
   "pygments_lexer": "ipython2",
   "version": "2.7.12"
  }
 },
 "nbformat": 4,
 "nbformat_minor": 2
}

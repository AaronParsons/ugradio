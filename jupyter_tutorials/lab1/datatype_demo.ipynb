{
 "cells": [
  {
   "cell_type": "markdown",
   "metadata": {},
   "source": [
    "# Mommy Fortuna's Midnight Carnival of Python Oddities"
   ]
  },
  {
   "cell_type": "code",
   "execution_count": 1,
   "metadata": {},
   "outputs": [
    {
     "name": "stdout",
     "output_type": "stream",
     "text": [
      "0.5\n",
      "0\n",
      "0.5\n",
      "0\n"
     ]
    }
   ],
   "source": [
    "print 1.0/2\n",
    "print 1/2 # need to restart and run to get this right\n",
    "from __future__ import division\n",
    "print 1/2\n",
    "print 1 // 2"
   ]
  },
  {
   "cell_type": "code",
   "execution_count": 2,
   "metadata": {},
   "outputs": [
    {
     "name": "stdout",
     "output_type": "stream",
     "text": [
      "<type 'numpy.int16'> 5.0\n",
      "<type 'numpy.int32'> 5.0\n",
      "<type 'numpy.int64'> 5.0\n",
      "<type 'numpy.float32'> 4.99999988079\n",
      "<type 'numpy.float64'> 5.0\n"
     ]
    }
   ],
   "source": [
    "import numpy as np\n",
    "\n",
    "dtypes = [np.int16, np.int32, np.int64, np.float32, np.float64]\n",
    "\n",
    "for dtype in dtypes:\n",
    "    data = np.array([1,1,3],dtype=dtype)\n",
    "    print dtype, np.average(data) * 3"
   ]
  },
  {
   "cell_type": "code",
   "execution_count": 3,
   "metadata": {},
   "outputs": [
    {
     "name": "stdout",
     "output_type": "stream",
     "text": [
      "<type 'numpy.int16'> [0]\n",
      "<type 'numpy.int32'> [-2147483648]\n",
      "<type 'numpy.int64'> [2147483648]\n",
      "<type 'numpy.float32'> [  2.14748365e+09]\n",
      "<type 'numpy.float64'> [  2.14748365e+09]\n"
     ]
    }
   ],
   "source": [
    "for dtype in dtypes:\n",
    "    print dtype, np.array([2], dtype=dtype)**31"
   ]
  },
  {
   "cell_type": "code",
   "execution_count": 4,
   "metadata": {},
   "outputs": [
    {
     "name": "stdout",
     "output_type": "stream",
     "text": [
      "<type 'numpy.int16'> [-1073741823]\n",
      "<type 'numpy.int32'> [1]\n",
      "<type 'numpy.int64'> [1]\n",
      "<type 'numpy.float32'> [ 0.]\n",
      "<type 'numpy.float64'> [ 1.]\n"
     ]
    }
   ],
   "source": [
    "for dtype in dtypes:\n",
    "    big_number = np.array([2], dtype=dtype)**30\n",
    "    print dtype, (big_number + 1) - 2**30"
   ]
  },
  {
   "cell_type": "code",
   "execution_count": 5,
   "metadata": {},
   "outputs": [
    {
     "name": "stdout",
     "output_type": "stream",
     "text": [
      "1.22464679915e-16 6.12323399574e-17\n"
     ]
    }
   ],
   "source": [
    "print np.sin(np.pi), np.cos(np.pi/2)"
   ]
  },
  {
   "cell_type": "code",
   "execution_count": 9,
   "metadata": {},
   "outputs": [
    {
     "name": "stdout",
     "output_type": "stream",
     "text": [
      "inf\n",
      "1000.0\n"
     ]
    },
    {
     "name": "stderr",
     "output_type": "stream",
     "text": [
      "/opt/local/Library/Frameworks/Python.framework/Versions/2.7/lib/python2.7/site-packages/ipykernel/__main__.py:1: RuntimeWarning: overflow encountered in exp\n",
      "  if __name__ == '__main__':\n"
     ]
    }
   ],
   "source": [
    "print np.log(np.exp(1000))\n",
    "print np.exp(np.log(1000))"
   ]
  },
  {
   "cell_type": "code",
   "execution_count": 7,
   "metadata": {},
   "outputs": [
    {
     "name": "stdout",
     "output_type": "stream",
     "text": [
      "[ inf]\n"
     ]
    },
    {
     "name": "stderr",
     "output_type": "stream",
     "text": [
      "/opt/local/Library/Frameworks/Python.framework/Versions/2.7/lib/python2.7/site-packages/ipykernel/__main__.py:1: RuntimeWarning: divide by zero encountered in true_divide\n",
      "  if __name__ == '__main__':\n"
     ]
    },
    {
     "ename": "ZeroDivisionError",
     "evalue": "float division by zero",
     "output_type": "error",
     "traceback": [
      "\u001b[0;31m---------------------------------------------------------------------------\u001b[0m",
      "\u001b[0;31mZeroDivisionError\u001b[0m                         Traceback (most recent call last)",
      "\u001b[0;32m<ipython-input-7-494316e8def7>\u001b[0m in \u001b[0;36m<module>\u001b[0;34m()\u001b[0m\n\u001b[1;32m      1\u001b[0m \u001b[0;32mprint\u001b[0m \u001b[0mnp\u001b[0m\u001b[0;34m.\u001b[0m\u001b[0marray\u001b[0m\u001b[0;34m(\u001b[0m\u001b[0;34m[\u001b[0m\u001b[0;36m1.\u001b[0m\u001b[0;34m]\u001b[0m\u001b[0;34m)\u001b[0m\u001b[0;34m/\u001b[0m\u001b[0;36m0\u001b[0m\u001b[0;34m\u001b[0m\u001b[0m\n\u001b[0;32m----> 2\u001b[0;31m \u001b[0;32mprint\u001b[0m \u001b[0;36m1.\u001b[0m\u001b[0;34m/\u001b[0m\u001b[0;36m0\u001b[0m\u001b[0;34m\u001b[0m\u001b[0m\n\u001b[0m",
      "\u001b[0;31mZeroDivisionError\u001b[0m: float division by zero"
     ]
    }
   ],
   "source": [
    "print np.array([1.])/0\n",
    "print 1./0"
   ]
  },
  {
   "cell_type": "code",
   "execution_count": 25,
   "metadata": {},
   "outputs": [
    {
     "name": "stderr",
     "output_type": "stream",
     "text": [
      "/opt/local/Library/Frameworks/Python.framework/Versions/2.7/lib/python2.7/site-packages/ipykernel/__main__.py:5: RankWarning: Polyfit may be poorly conditioned\n"
     ]
    },
    {
     "data": {
      "image/png": "[encoded data removed]",
      "text/plain": [
       "<matplotlib.figure.Figure at 0x10a788d10>"
      ]
     },
     "metadata": {},
     "output_type": "display_data"
    }
   ],
   "source": [
    "x = np.linspace(0,2,1024)\n",
    "y = 3*x + 1\n",
    "p1 = np.polyfit(x,y,deg=1)\n",
    "p2 = np.polyfit(x,y,deg=2)\n",
    "p20 = np.polyfit(x,y,deg=20)\n",
    "%matplotlib inline\n",
    "import pylab as plt\n",
    "plt.semilogy(x, np.abs(np.polyval(p1, x) - y), 'b')\n",
    "plt.semilogy(x, np.abs(np.polyval(p2, x) - y), 'g')\n",
    "plt.semilogy(x, np.abs(np.polyval(p20, x) - y), 'r')\n",
    "plt.show()"
   ]
  },
  {
   "cell_type": "code",
   "execution_count": 20,
   "metadata": {},
   "outputs": [
    {
     "name": "stdout",
     "output_type": "stream",
     "text": [
      "2 1\n",
      "[2] [2]\n"
     ]
    }
   ],
   "source": [
    "a = 1\n",
    "b = a\n",
    "a = 2\n",
    "print a, b\n",
    "a = [1]\n",
    "b = a\n",
    "a[0] = 2\n",
    "print a, b"
   ]
  },
  {
   "cell_type": "code",
   "execution_count": 22,
   "metadata": {},
   "outputs": [
    {
     "name": "stdout",
     "output_type": "stream",
     "text": [
      "2 1\n",
      "[1, 1] [1, 1]\n",
      "(1, 1) (1,)\n"
     ]
    }
   ],
   "source": [
    "def double_it(x):\n",
    "    x *= 2\n",
    "    return x\n",
    "\n",
    "a = 1\n",
    "print double_it(a), a\n",
    "a = [1]\n",
    "print double_it(a), a\n",
    "a = (1,)\n",
    "print double_it(a), a"
   ]
  },
  {
   "cell_type": "code",
   "execution_count": 24,
   "metadata": {},
   "outputs": [
    {
     "name": "stdout",
     "output_type": "stream",
     "text": [
      "[0, 3, 0, 0, 0]\n",
      "[[3], [3], [3], [3], [3]]\n"
     ]
    }
   ],
   "source": [
    "x = [0] * 5\n",
    "x[1] = 3\n",
    "print x\n",
    "x = [[0]] * 5\n",
    "x[1][0] = 3\n",
    "print x"
   ]
  },
  {
   "cell_type": "code",
   "execution_count": 23,
   "metadata": {},
   "outputs": [
    {
     "name": "stdout",
     "output_type": "stream",
     "text": [
      "['fish', 'duck', 'seal', 'mouse', 'cow', 'fox', 'dog', 'frog', 'cat', 'elephant', 'bird']\n",
      "['elephant', 'cow', 'fish', 'duck', 'fox', 'dog', 'frog', 'cat', 'seal', 'mouse', 'bird']\n"
     ]
    }
   ],
   "source": [
    "import cPickle\n",
    "d = {'dog':'woof','cat':'meow','bird':'tweet',\n",
    "     'mouse':'squeak','cow':'moo', 'frog':'croak',\n",
    "     'elephant':'toot','duck':'quack','fish':'blub',\n",
    "     'seal':'ow ow ow','fox':None}\n",
    "print d.keys()\n",
    "s = cPickle.dumps(d)\n",
    "d2 = cPickle.loads(s)\n",
    "print d2.keys()"
   ]
  },
  {
   "cell_type": "code",
   "execution_count": null,
   "metadata": {
    "collapsed": true
   },
   "outputs": [],
   "source": []
  }
 ],
 "metadata": {
  "kernelspec": {
   "display_name": "Python 2",
   "language": "python",
   "name": "python2"
  },
  "language_info": {
   "codemirror_mode": {
    "name": "ipython",
    "version": 2
   },
   "file_extension": ".py",
   "mimetype": "text/x-python",
   "name": "python",
   "nbconvert_exporter": "python",
   "pygments_lexer": "ipython2",
   "version": "2.7.13"
  }
 },
 "nbformat": 4,
 "nbformat_minor": 2
}

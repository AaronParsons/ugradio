{
 "cells": [
  {
   "cell_type": "markdown",
   "metadata": {},
   "source": [
    "# Mommy Fortuna's Midnight Carnival of Python Oddities"
   ]
  },
  {
   "cell_type": "markdown",
   "metadata": {},
   "source": [
    "## Exhibit 1: The Wonders and Pitfalls of Promotion\n",
    "\n",
    "Numerical variables in the Python language have associated data types,\n",
    "but you may not have noticed because Python automatically\n",
    "converts between them.  However, the behavior of this conversion\n",
    "can depend on the data type, so be careful."
   ]
  },
  {
   "cell_type": "code",
   "execution_count": 1,
   "metadata": {
    "execution": {
     "iopub.execute_input": "2025-01-22T19:44:20.522556Z",
     "iopub.status.busy": "2025-01-22T19:44:20.521323Z",
     "iopub.status.idle": "2025-01-22T19:44:20.971298Z",
     "shell.execute_reply": "2025-01-22T19:44:20.970667Z",
     "shell.execute_reply.started": "2025-01-22T19:44:20.522427Z"
    }
   },
   "outputs": [],
   "source": [
    "import numpy as np\n",
    "import matplotlib.pyplot as plt"
   ]
  },
  {
   "cell_type": "code",
   "execution_count": 2,
   "metadata": {
    "collapsed": false,
    "execution": {
     "iopub.execute_input": "2025-01-22T19:44:20.972268Z",
     "iopub.status.busy": "2025-01-22T19:44:20.972007Z",
     "iopub.status.idle": "2025-01-22T19:44:20.976727Z",
     "shell.execute_reply": "2025-01-22T19:44:20.976104Z",
     "shell.execute_reply.started": "2025-01-22T19:44:20.972252Z"
    },
    "jupyter": {
     "outputs_hidden": false
    }
   },
   "outputs": [
    {
     "name": "stdout",
     "output_type": "stream",
     "text": [
      "Case 0: 1.0 / 2 = 0.5 of type <class 'float'>\n",
      "Case 1: 1 / 2 = 0.5 of type <class 'float'>\n",
      "Case 2: np.array([1]) / np.array([2]) = [0.5] of type float64\n",
      "Case 3: 1.0 // 2 = 0.0 of type <class 'float'>\n",
      "Case 4: 1 // 2 = 0 of type <class 'int'>\n",
      "Case 5: np.array([1]) // np.array([2]) = [0] of type int64\n"
     ]
    }
   ],
   "source": [
    "cases = [\n",
    "    '1.0 / 2',\n",
    "    '1 / 2',\n",
    "    'np.array([1]) / np.array([2])',\n",
    "    '1.0 // 2',\n",
    "    '1 // 2',\n",
    "    'np.array([1]) // np.array([2])',\n",
    "]\n",
    "\n",
    "for cnt, eqn in enumerate(cases):\n",
    "    ans = eval(eqn)\n",
    "    if 'np' in eqn:\n",
    "        dtype = ans.dtype\n",
    "    else:\n",
    "        dtype = type(ans)\n",
    "    print(f'Case {cnt}: {eqn} = {ans} of type {dtype}')"
   ]
  },
  {
   "cell_type": "code",
   "execution_count": 3,
   "metadata": {
    "collapsed": false,
    "execution": {
     "iopub.execute_input": "2025-01-22T19:44:20.977828Z",
     "iopub.status.busy": "2025-01-22T19:44:20.977617Z",
     "iopub.status.idle": "2025-01-22T19:44:20.991416Z",
     "shell.execute_reply": "2025-01-22T19:44:20.990851Z",
     "shell.execute_reply.started": "2025-01-22T19:44:20.977811Z"
    },
    "jupyter": {
     "outputs_hidden": false
    }
   },
   "outputs": [
    {
     "name": "stdout",
     "output_type": "stream",
     "text": [
      "Case 0: [0] * 2 = [0, 0]\n",
      "Case 1: [0] * 2.0 = TypeError\n"
     ]
    }
   ],
   "source": [
    "cases = [\n",
    "    '[0] * 2',  # list times an integer\n",
    "    '[0] * 2.0', # list times float causes exception\n",
    "]\n",
    "\n",
    "for cnt, eqn in enumerate(cases):\n",
    "    try:\n",
    "        ans = eval(eqn)\n",
    "    except(TypeError):\n",
    "        ans = 'TypeError'\n",
    "    print(f'Case {cnt}: {eqn} = {ans}')"
   ]
  },
  {
   "cell_type": "markdown",
   "metadata": {},
   "source": [
    "## Exhibit 2: Precision, and the Lack Thereof\n",
    "\n",
    "Numpy has a stricter notation of data types.  The data type of\n",
    "an array is static, but numpy will promote data types when\n",
    "you perform an operation that creates a new array.   Numpy\n",
    "data types often behave differently than their Python cousins."
   ]
  },
  {
   "cell_type": "code",
   "execution_count": 4,
   "metadata": {
    "collapsed": false,
    "execution": {
     "iopub.execute_input": "2025-01-22T19:44:20.992603Z",
     "iopub.status.busy": "2025-01-22T19:44:20.992345Z",
     "iopub.status.idle": "2025-01-22T19:44:21.161663Z",
     "shell.execute_reply": "2025-01-22T19:44:21.160168Z",
     "shell.execute_reply.started": "2025-01-22T19:44:20.992577Z"
    },
    "jupyter": {
     "outputs_hidden": false
    }
   },
   "outputs": [
    {
     "name": "stdout",
     "output_type": "stream",
     "text": [
      "int64\n",
      "float64\n"
     ]
    },
    {
     "ename": "UFuncTypeError",
     "evalue": "Cannot cast ufunc 'multiply' output from dtype('float64') to dtype('int64') with casting rule 'same_kind'",
     "output_type": "error",
     "traceback": [
      "\u001b[0;31m---------------------------------------------------------------------------\u001b[0m",
      "\u001b[0;31mUFuncTypeError\u001b[0m                            Traceback (most recent call last)",
      "Cell \u001b[0;32mIn[4], line 4\u001b[0m\n\u001b[1;32m      2\u001b[0m \u001b[38;5;28mprint\u001b[39m(x\u001b[38;5;241m.\u001b[39mdtype)\n\u001b[1;32m      3\u001b[0m \u001b[38;5;28mprint\u001b[39m((x \u001b[38;5;241m*\u001b[39m \u001b[38;5;241m1.\u001b[39m)\u001b[38;5;241m.\u001b[39mdtype) \u001b[38;5;66;03m# a new array is created with promoted type\u001b[39;00m\n\u001b[0;32m----> 4\u001b[0m x \u001b[38;5;241m*\u001b[39m\u001b[38;5;241m=\u001b[39m \u001b[38;5;241m1.\u001b[39m \u001b[38;5;66;03m# error: the new promoted array cannot be assigned to the original\u001b[39;00m\n",
      "\u001b[0;31mUFuncTypeError\u001b[0m: Cannot cast ufunc 'multiply' output from dtype('float64') to dtype('int64') with casting rule 'same_kind'"
     ]
    }
   ],
   "source": [
    "x = np.array([0, 1, 2])\n",
    "print(x.dtype)\n",
    "print((x * 1.).dtype) # a new array is created with promoted type\n",
    "x *= 1. # error: the new promoted array cannot be assigned to the original"
   ]
  },
  {
   "cell_type": "markdown",
   "metadata": {},
   "source": [
    "Depending on the data type, results can only be represented with a finite precision."
   ]
  },
  {
   "cell_type": "code",
   "execution_count": 5,
   "metadata": {
    "collapsed": false,
    "execution": {
     "iopub.execute_input": "2025-01-22T19:44:27.075628Z",
     "iopub.status.busy": "2025-01-22T19:44:27.074745Z",
     "iopub.status.idle": "2025-01-22T19:44:27.091990Z",
     "shell.execute_reply": "2025-01-22T19:44:27.089630Z",
     "shell.execute_reply.started": "2025-01-22T19:44:27.075549Z"
    },
    "jupyter": {
     "outputs_hidden": false
    }
   },
   "outputs": [
    {
     "name": "stdout",
     "output_type": "stream",
     "text": [
      "<class 'numpy.int16'> 1.6666666666666667 float64 3\n",
      "<class 'numpy.int32'> 1.6666666666666667 float64 3\n",
      "<class 'numpy.int64'> 1.6666666666666667 float64 3\n",
      "<class 'numpy.float32'> 1.6666666 float32 5.0\n",
      "<class 'numpy.float64'> 1.6666666666666667 float64 5.0\n"
     ]
    }
   ],
   "source": [
    "dtypes = [np.int16, np.int32, np.int64, np.float32, np.float64]\n",
    "\n",
    "for dtype in dtypes:\n",
    "    data = np.array([1, 1, 3], dtype=dtype)\n",
    "    print(dtype, np.average(data), np.average(data).dtype, np.average(data).astype(dtype) * 3)"
   ]
  },
  {
   "cell_type": "markdown",
   "metadata": {},
   "source": [
    "Beware the finite precision of floats!"
   ]
  },
  {
   "cell_type": "code",
   "execution_count": 6,
   "metadata": {
    "collapsed": false,
    "execution": {
     "iopub.execute_input": "2025-01-22T19:44:28.965509Z",
     "iopub.status.busy": "2025-01-22T19:44:28.964626Z",
     "iopub.status.idle": "2025-01-22T19:44:28.981678Z",
     "shell.execute_reply": "2025-01-22T19:44:28.979227Z",
     "shell.execute_reply.started": "2025-01-22T19:44:28.965430Z"
    },
    "jupyter": {
     "outputs_hidden": false
    }
   },
   "outputs": [
    {
     "name": "stdout",
     "output_type": "stream",
     "text": [
      "<class 'numpy.int16'> had OverflowError\n",
      "<class 'numpy.int32'> [16777217]\n",
      "<class 'numpy.int64'> [16777217]\n",
      "<class 'numpy.float32'> [16777216.]\n",
      "<class 'numpy.float64'> [16777217.]\n"
     ]
    }
   ],
   "source": [
    "for dtype in dtypes:\n",
    "    try:\n",
    "        print(dtype, np.array([2**24+1], dtype=dtype))\n",
    "    except(OverflowError):\n",
    "        print(f'{dtype} had OverflowError')"
   ]
  },
  {
   "cell_type": "code",
   "execution_count": 7,
   "metadata": {
    "collapsed": false,
    "execution": {
     "iopub.execute_input": "2025-01-22T19:44:29.609052Z",
     "iopub.status.busy": "2025-01-22T19:44:29.608193Z",
     "iopub.status.idle": "2025-01-22T19:44:29.621784Z",
     "shell.execute_reply": "2025-01-22T19:44:29.618564Z",
     "shell.execute_reply.started": "2025-01-22T19:44:29.608973Z"
    },
    "jupyter": {
     "outputs_hidden": false
    }
   },
   "outputs": [
    {
     "name": "stdout",
     "output_type": "stream",
     "text": [
      "1.2246467991473532e-16 6.123233995736766e-17\n"
     ]
    }
   ],
   "source": [
    "print(np.sin(np.pi), np.cos(np.pi/2))  # note how cos isn't zero"
   ]
  },
  {
   "cell_type": "markdown",
   "metadata": {},
   "source": [
    "For large values, integers may wrap and floats may behave unexpectedly. Numpy arrays don't raise exceptions the way Python values do."
   ]
  },
  {
   "cell_type": "code",
   "execution_count": 8,
   "metadata": {
    "collapsed": false,
    "execution": {
     "iopub.execute_input": "2025-01-22T19:44:30.938253Z",
     "iopub.status.busy": "2025-01-22T19:44:30.937384Z",
     "iopub.status.idle": "2025-01-22T19:44:30.957178Z",
     "shell.execute_reply": "2025-01-22T19:44:30.953764Z",
     "shell.execute_reply.started": "2025-01-22T19:44:30.938173Z"
    },
    "jupyter": {
     "outputs_hidden": false
    }
   },
   "outputs": [
    {
     "name": "stdout",
     "output_type": "stream",
     "text": [
      "<class 'numpy.int16'> [0] [1]\n",
      "<class 'numpy.int32'> [16777216] [1]\n",
      "<class 'numpy.int64'> [16777216] [1]\n",
      "<class 'numpy.float32'> [16777216.] [0.]\n",
      "<class 'numpy.float64'> [16777216.] [1.]\n"
     ]
    }
   ],
   "source": [
    "for dtype in dtypes:\n",
    "    big_number = np.array([2], dtype=dtype)**24\n",
    "    smaller_big_number = np.array([2], dtype=dtype)**24\n",
    "    print(dtype, big_number, (big_number + 1) - smaller_big_number)"
   ]
  },
  {
   "cell_type": "code",
   "execution_count": 9,
   "metadata": {
    "collapsed": false,
    "execution": {
     "iopub.execute_input": "2025-01-22T19:44:31.492169Z",
     "iopub.status.busy": "2025-01-22T19:44:31.491311Z",
     "iopub.status.idle": "2025-01-22T19:44:31.506296Z",
     "shell.execute_reply": "2025-01-22T19:44:31.503258Z",
     "shell.execute_reply.started": "2025-01-22T19:44:31.492086Z"
    },
    "jupyter": {
     "outputs_hidden": false
    }
   },
   "outputs": [
    {
     "name": "stdout",
     "output_type": "stream",
     "text": [
      "inf\n",
      "999.9999999999998\n"
     ]
    },
    {
     "name": "stderr",
     "output_type": "stream",
     "text": [
      "/tmp/ipykernel_20241/198834523.py:1: RuntimeWarning: overflow encountered in exp\n",
      "  print(np.log(np.exp(1000)))\n"
     ]
    }
   ],
   "source": [
    "print(np.log(np.exp(1000)))\n",
    "print(np.exp(np.log(1000)))"
   ]
  },
  {
   "cell_type": "code",
   "execution_count": 10,
   "metadata": {
    "collapsed": false,
    "execution": {
     "iopub.execute_input": "2025-01-22T19:44:32.074746Z",
     "iopub.status.busy": "2025-01-22T19:44:32.073842Z",
     "iopub.status.idle": "2025-01-22T19:44:32.144047Z",
     "shell.execute_reply": "2025-01-22T19:44:32.140235Z",
     "shell.execute_reply.started": "2025-01-22T19:44:32.074669Z"
    },
    "jupyter": {
     "outputs_hidden": false
    }
   },
   "outputs": [
    {
     "name": "stdout",
     "output_type": "stream",
     "text": [
      "[inf]\n"
     ]
    },
    {
     "name": "stderr",
     "output_type": "stream",
     "text": [
      "/tmp/ipykernel_20241/937139305.py:1: RuntimeWarning: divide by zero encountered in divide\n",
      "  print(np.array([1.])/0)\n"
     ]
    },
    {
     "ename": "ZeroDivisionError",
     "evalue": "float division by zero",
     "output_type": "error",
     "traceback": [
      "\u001b[0;31m---------------------------------------------------------------------------\u001b[0m",
      "\u001b[0;31mZeroDivisionError\u001b[0m                         Traceback (most recent call last)",
      "Cell \u001b[0;32mIn[10], line 2\u001b[0m\n\u001b[1;32m      1\u001b[0m \u001b[38;5;28mprint\u001b[39m(np\u001b[38;5;241m.\u001b[39marray([\u001b[38;5;241m1.\u001b[39m])\u001b[38;5;241m/\u001b[39m\u001b[38;5;241m0\u001b[39m)\n\u001b[0;32m----> 2\u001b[0m \u001b[38;5;28mprint\u001b[39m(\u001b[38;5;241;43m1.\u001b[39;49m\u001b[38;5;241;43m/\u001b[39;49m\u001b[38;5;241;43m0\u001b[39;49m)\n",
      "\u001b[0;31mZeroDivisionError\u001b[0m: float division by zero"
     ]
    }
   ],
   "source": [
    "print(np.array([1.])/0)\n",
    "print(1./0)"
   ]
  },
  {
   "cell_type": "markdown",
   "metadata": {},
   "source": [
    "## Exhibit 3: Numerical Instability\n",
    "\n",
    "Numerical precision can have unexpected effects on numerical code.\n",
    "For example, polynomial fitting grows unstable for large-degree polynimals.\n",
    "Numerical stability is tricky to track down and can be platform dependent."
   ]
  },
  {
   "cell_type": "code",
   "execution_count": 11,
   "metadata": {
    "collapsed": false,
    "execution": {
     "iopub.execute_input": "2025-01-22T19:44:33.424841Z",
     "iopub.status.busy": "2025-01-22T19:44:33.423950Z",
     "iopub.status.idle": "2025-01-22T19:44:33.957670Z",
     "shell.execute_reply": "2025-01-22T19:44:33.956994Z",
     "shell.execute_reply.started": "2025-01-22T19:44:33.424761Z"
    },
    "jupyter": {
     "outputs_hidden": false
    }
   },
   "outputs": [
    {
     "name": "stderr",
     "output_type": "stream",
     "text": [
      "/tmp/ipykernel_20241/3480443910.py:5: RankWarning: Polyfit may be poorly conditioned\n",
      "  p20 = np.polyfit(x,y,deg=20)\n"
     ]
    },
    {
     "data": {
      "image/png": "[encoded data removed]",
      "text/plain": [
       "<Figure size 432x288 with 1 Axes>"
      ]
     },
     "metadata": {
      "needs_background": "light"
     },
     "output_type": "display_data"
    }
   ],
   "source": [
    "x = np.linspace(0,2,1024)\n",
    "y = 3*x + 1 # fitting to linear data should ideally be perfect\n",
    "p1 = np.polyfit(x,y,deg=1)\n",
    "p2 = np.polyfit(x,y,deg=2)\n",
    "p20 = np.polyfit(x,y,deg=20)\n",
    "\n",
    "plt.title(\"Higher-degree polynomials aren't always better.\")\n",
    "plt.semilogy(x, np.abs(np.polyval(p1, x) - y), 'b')\n",
    "plt.semilogy(x, np.abs(np.polyval(p2, x) - y), 'g')\n",
    "plt.semilogy(x, np.abs(np.polyval(p20, x) - y), 'r')\n",
    "plt.show()"
   ]
  },
  {
   "cell_type": "markdown",
   "metadata": {},
   "source": [
    "## Exhibit 4: When is a Duck When it Isn't\n",
    "\n",
    "Sometimes, variables are completely independent from each other.  Sometimes\n",
    "they actually refer to the same underlying object.  Python calls\n",
    "this behavior 'mutability'.  Some data types are mutable (variables point\n",
    "to the same object), while others are immutable."
   ]
  },
  {
   "cell_type": "code",
   "execution_count": 12,
   "metadata": {
    "collapsed": false,
    "execution": {
     "iopub.execute_input": "2025-01-22T19:44:34.756462Z",
     "iopub.status.busy": "2025-01-22T19:44:34.755574Z",
     "iopub.status.idle": "2025-01-22T19:44:34.769633Z",
     "shell.execute_reply": "2025-01-22T19:44:34.766708Z",
     "shell.execute_reply.started": "2025-01-22T19:44:34.756382Z"
    },
    "jupyter": {
     "outputs_hidden": false
    }
   },
   "outputs": [
    {
     "name": "stdout",
     "output_type": "stream",
     "text": [
      "2 1\n",
      "[2] [2]\n"
     ]
    }
   ],
   "source": [
    "a = 1\n",
    "b = a\n",
    "a = 2\n",
    "print(a, b)\n",
    "\n",
    "a = [1]\n",
    "b = a\n",
    "a[0] = 2\n",
    "print(a, b)"
   ]
  },
  {
   "cell_type": "code",
   "execution_count": 13,
   "metadata": {
    "collapsed": false,
    "execution": {
     "iopub.execute_input": "2025-01-22T19:44:35.411520Z",
     "iopub.status.busy": "2025-01-22T19:44:35.411251Z",
     "iopub.status.idle": "2025-01-22T19:44:35.416780Z",
     "shell.execute_reply": "2025-01-22T19:44:35.416077Z",
     "shell.execute_reply.started": "2025-01-22T19:44:35.411498Z"
    },
    "jupyter": {
     "outputs_hidden": false
    }
   },
   "outputs": [
    {
     "name": "stdout",
     "output_type": "stream",
     "text": [
      "2 1\n",
      "[1, 1] [1, 1]\n",
      "(1, 1) (1,)\n"
     ]
    }
   ],
   "source": [
    "def double_it(x):\n",
    "    x *= 2\n",
    "    return x\n",
    "\n",
    "a = 1\n",
    "print(double_it(a), a)\n",
    "a = [1]\n",
    "print(double_it(a), a)\n",
    "a = (1,)\n",
    "print(double_it(a), a)"
   ]
  },
  {
   "cell_type": "code",
   "execution_count": 14,
   "metadata": {
    "collapsed": false,
    "execution": {
     "iopub.execute_input": "2025-01-22T19:44:36.189849Z",
     "iopub.status.busy": "2025-01-22T19:44:36.188596Z",
     "iopub.status.idle": "2025-01-22T19:44:36.207397Z",
     "shell.execute_reply": "2025-01-22T19:44:36.204236Z",
     "shell.execute_reply.started": "2025-01-22T19:44:36.189730Z"
    },
    "jupyter": {
     "outputs_hidden": false
    }
   },
   "outputs": [
    {
     "name": "stdout",
     "output_type": "stream",
     "text": [
      "[0, 3, 0, 0, 0]\n",
      "[[3], [3], [3], [3], [3]]\n"
     ]
    }
   ],
   "source": [
    "x = [0] * 5\n",
    "x[1] = 3\n",
    "print(x)\n",
    "\n",
    "x = [[0]] * 5\n",
    "x[1][0] = 3\n",
    "print(x)"
   ]
  },
  {
   "cell_type": "markdown",
   "metadata": {},
   "source": [
    "## Exhibit 5: Disorder\n",
    "\n",
    "Some attributes, notably the iteration order of sets, are\n",
    "arbitrary and change between platforms, or even between serialization\n",
    "and de-serialization (e.g. when writing to disk).  Good code should\n",
    "not rely on aspects of these attributes that are not guaranteed."
   ]
  },
  {
   "cell_type": "code",
   "execution_count": 15,
   "metadata": {
    "execution": {
     "iopub.execute_input": "2025-01-22T19:44:37.837761Z",
     "iopub.status.busy": "2025-01-22T19:44:37.836852Z",
     "iopub.status.idle": "2025-01-22T19:44:37.851284Z",
     "shell.execute_reply": "2025-01-22T19:44:37.848558Z",
     "shell.execute_reply.started": "2025-01-22T19:44:37.837682Z"
    }
   },
   "outputs": [
    {
     "name": "stdout",
     "output_type": "stream",
     "text": [
      "{'noodle', 'bug', 'cow'}\n",
      "{'noodle', 'bug', 'cow'}\n"
     ]
    }
   ],
   "source": [
    "import pickle\n",
    "data1 = set(['cow', 'bug', 'noodle'])\n",
    "print(data1)\n",
    "s = pickle.dumps(data1)\n",
    "data2 = pickle.loads(s)\n",
    "print(data2)"
   ]
  },
  {
   "cell_type": "markdown",
   "metadata": {},
   "source": [
    "# Exhibit 6: For loop assignment\n",
    "\n",
    "For loops will assign to anything that can take assignment. Maybe not surprising, but perhaps not intuitive."
   ]
  },
  {
   "cell_type": "code",
   "execution_count": 16,
   "metadata": {
    "collapsed": false,
    "execution": {
     "iopub.execute_input": "2025-01-22T19:44:40.458118Z",
     "iopub.status.busy": "2025-01-22T19:44:40.457240Z",
     "iopub.status.idle": "2025-01-22T19:44:40.474009Z",
     "shell.execute_reply": "2025-01-22T19:44:40.471430Z",
     "shell.execute_reply.started": "2025-01-22T19:44:40.458006Z"
    },
    "jupyter": {
     "outputs_hidden": false
    }
   },
   "outputs": [
    {
     "name": "stdout",
     "output_type": "stream",
     "text": [
      "{'dog': 'woof', 'cat': 'meow', 'bird': 'tweet', 'mouse': 'squeak', 'cow': 'moo', 'frog': 'croak', 'elephant': 'toot', 'duck': 'quack', 'fish': 'blub', 'seal': 'ow ow ow', 'fox': 'h'}\n",
      "{'dog': 'woof', 'cat': 'meow', 'bird': 'tweet', 'mouse': 'squeak', 'cow': 'moo', 'frog': 'croak', 'elephant': 'toot', 'duck': 'quack', 'fish': 'blub', 'seal': 'ow ow ow', 'fox': 'a'}\n",
      "{'dog': 'woof', 'cat': 'meow', 'bird': 'tweet', 'mouse': 'squeak', 'cow': 'moo', 'frog': 'croak', 'elephant': 'toot', 'duck': 'quack', 'fish': 'blub', 'seal': 'ow ow ow', 'fox': 'k'}\n",
      "{'dog': 'woof', 'cat': 'meow', 'bird': 'tweet', 'mouse': 'squeak', 'cow': 'moo', 'frog': 'croak', 'elephant': 'toot', 'duck': 'quack', 'fish': 'blub', 'seal': 'ow ow ow', 'fox': 'i'}\n",
      "{'dog': 'woof', 'cat': 'meow', 'bird': 'tweet', 'mouse': 'squeak', 'cow': 'moo', 'frog': 'croak', 'elephant': 'toot', 'duck': 'quack', 'fish': 'blub', 'seal': 'ow ow ow', 'fox': ' '}\n",
      "{'dog': 'woof', 'cat': 'meow', 'bird': 'tweet', 'mouse': 'squeak', 'cow': 'moo', 'frog': 'croak', 'elephant': 'toot', 'duck': 'quack', 'fish': 'blub', 'seal': 'ow ow ow', 'fox': 'h'}\n",
      "{'dog': 'woof', 'cat': 'meow', 'bird': 'tweet', 'mouse': 'squeak', 'cow': 'moo', 'frog': 'croak', 'elephant': 'toot', 'duck': 'quack', 'fish': 'blub', 'seal': 'ow ow ow', 'fox': 'a'}\n",
      "{'dog': 'woof', 'cat': 'meow', 'bird': 'tweet', 'mouse': 'squeak', 'cow': 'moo', 'frog': 'croak', 'elephant': 'toot', 'duck': 'quack', 'fish': 'blub', 'seal': 'ow ow ow', 'fox': 'k'}\n",
      "{'dog': 'woof', 'cat': 'meow', 'bird': 'tweet', 'mouse': 'squeak', 'cow': 'moo', 'frog': 'croak', 'elephant': 'toot', 'duck': 'quack', 'fish': 'blub', 'seal': 'ow ow ow', 'fox': 'i'}\n",
      "{'dog': 'woof', 'cat': 'meow', 'bird': 'tweet', 'mouse': 'squeak', 'cow': 'moo', 'frog': 'croak', 'elephant': 'toot', 'duck': 'quack', 'fish': 'blub', 'seal': 'ow ow ow', 'fox': ' '}\n",
      "{'dog': 'woof', 'cat': 'meow', 'bird': 'tweet', 'mouse': 'squeak', 'cow': 'moo', 'frog': 'croak', 'elephant': 'toot', 'duck': 'quack', 'fish': 'blub', 'seal': 'ow ow ow', 'fox': 'h'}\n",
      "{'dog': 'woof', 'cat': 'meow', 'bird': 'tweet', 'mouse': 'squeak', 'cow': 'moo', 'frog': 'croak', 'elephant': 'toot', 'duck': 'quack', 'fish': 'blub', 'seal': 'ow ow ow', 'fox': 'a'}\n",
      "{'dog': 'woof', 'cat': 'meow', 'bird': 'tweet', 'mouse': 'squeak', 'cow': 'moo', 'frog': 'croak', 'elephant': 'toot', 'duck': 'quack', 'fish': 'blub', 'seal': 'ow ow ow', 'fox': 'k'}\n",
      "{'dog': 'woof', 'cat': 'meow', 'bird': 'tweet', 'mouse': 'squeak', 'cow': 'moo', 'frog': 'croak', 'elephant': 'toot', 'duck': 'quack', 'fish': 'blub', 'seal': 'ow ow ow', 'fox': 'i'}\n",
      "{'dog': 'woof', 'cat': 'meow', 'bird': 'tweet', 'mouse': 'squeak', 'cow': 'moo', 'frog': 'croak', 'elephant': 'toot', 'duck': 'quack', 'fish': 'blub', 'seal': 'ow ow ow', 'fox': ' '}\n",
      "{'dog': 'woof', 'cat': 'meow', 'bird': 'tweet', 'mouse': 'squeak', 'cow': 'moo', 'frog': 'croak', 'elephant': 'toot', 'duck': 'quack', 'fish': 'blub', 'seal': 'ow ow ow', 'fox': 'h'}\n",
      "{'dog': 'woof', 'cat': 'meow', 'bird': 'tweet', 'mouse': 'squeak', 'cow': 'moo', 'frog': 'croak', 'elephant': 'toot', 'duck': 'quack', 'fish': 'blub', 'seal': 'ow ow ow', 'fox': 'o'}\n"
     ]
    }
   ],
   "source": [
    "d = {'dog':'woof','cat':'meow','bird':'tweet',\n",
    "     'mouse':'squeak','cow':'moo', 'frog':'croak',\n",
    "     'elephant':'toot','duck':'quack','fish':'blub',\n",
    "     'seal':'ow ow ow','fox':None}\n",
    "\n",
    "values = \"haki haki haki ho\"\n",
    "\n",
    "for d[\"fox\"] in values:\n",
    "    print(d)"
   ]
  }
 ],
 "metadata": {
  "kernelspec": {
   "display_name": "Python 3 (ipykernel)",
   "language": "python",
   "name": "python3"
  },
  "language_info": {
   "codemirror_mode": {
    "name": "ipython",
    "version": 3
   },
   "file_extension": ".py",
   "mimetype": "text/x-python",
   "name": "python",
   "nbconvert_exporter": "python",
   "pygments_lexer": "ipython3",
   "version": "3.10.12"
  }
 },
 "nbformat": 4,
 "nbformat_minor": 4
}

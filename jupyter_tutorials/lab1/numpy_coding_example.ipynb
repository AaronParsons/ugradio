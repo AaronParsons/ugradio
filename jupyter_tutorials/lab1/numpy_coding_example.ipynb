{
 "cells": [
  {
   "cell_type": "markdown",
   "metadata": {},
   "source": [
    "# Numpy Arrays: the basics\n",
    "Many tasks in python are made easier with the use of numpy array operations. These include everything from standard matrix algebra functions to selection of rows or columns of data based on desired criteria. A good reference for array operations can be found here: https://docs.scipy.org/doc/numpy/user/quickstart.html\n",
    "\n",
    "##### We first import relevant packages and define variables:"
   ]
  },
  {
   "cell_type": "code",
   "execution_count": 1,
   "metadata": {},
   "outputs": [],
   "source": [
    "import numpy as np\n",
    "import matplotlib.pyplot as plt"
   ]
  },
  {
   "cell_type": "markdown",
   "metadata": {},
   "source": [
    "### Generating your own data\n",
    "np.arange(start, stop, step) will give you a 1-dimensional array with numbers from start to stop. We can get the shape of the array in (rows, columns) and the sum, min, and max from numpy."
   ]
  },
  {
   "cell_type": "code",
   "execution_count": 3,
   "metadata": {},
   "outputs": [
    {
     "name": "stdout",
     "output_type": "stream",
     "text": [
      "A:\n",
      " [0 1 2 3 4 5 6 7 8 9] \n",
      "\n",
      "shape:  (10,)\n",
      "sum: 45 \n",
      "min:  0 \n",
      "max: 9\n"
     ]
    }
   ],
   "source": [
    "# Example data\n",
    "A = np.arange(10) # array contains: 0,1,2,...,10\n",
    "\n",
    "print(\"A:\\n\", A, \"\\n\\nshape: \", A.shape)\n",
    "print(\"sum:\", np.sum(A), \"\\nmin: \", np.min(A), \"\\nmax:\", np.max(A))"
   ]
  },
  {
   "cell_type": "markdown",
   "metadata": {},
   "source": [
    "#### Writing your data\n",
    "Once you have taken data, you will want to save it to a file so you don't lose all your hard work. There are more file types than are easy to list, but a nice example that's commonly used is npz files. You will need to specify a file path and the data you want to save."
   ]
  },
  {
   "cell_type": "code",
   "execution_count": 4,
   "metadata": {},
   "outputs": [],
   "source": [
    "np.savez('filename.npz', data=A) #saved a numpy array to a file named filename.npz"
   ]
  },
  {
   "cell_type": "markdown",
   "metadata": {},
   "source": [
    "#### Reading that data\n",
    "Once you save the data, you'll need to access it. You'll need to remember the keyword argument you used to identify the data. In this case, our keyword argument was 'data', which stored our array A.\n",
    "\n",
    "*If you run the below cell without running the above cell, you won't get anything. Why is this?*"
   ]
  },
  {
   "cell_type": "code",
   "execution_count": 5,
   "metadata": {},
   "outputs": [
    {
     "name": "stdout",
     "output_type": "stream",
     "text": [
      "[0 1 2 3 4 5 6 7 8 9]\n"
     ]
    }
   ],
   "source": [
    "B = np.load('filename.npz')['data']\n",
    "print(B) #B should be equivalent to A"
   ]
  },
  {
   "cell_type": "markdown",
   "metadata": {},
   "source": [
    "## Array operations:\n",
    "#### Reshaping arrays\n",
    "Arrays can be reshaped with the np.reshape() function, but make sure that your new dimensions match the number of elements in the array or you will get an error! You can see how it works below:"
   ]
  },
  {
   "cell_type": "code",
   "execution_count": 5,
   "metadata": {},
   "outputs": [
    {
     "name": "stdout",
     "output_type": "stream",
     "text": [
      "A reshaped:\n",
      " [[0 1 2 3 4]\n",
      " [5 6 7 8 9]]\n",
      "shape: (2, 5)\n",
      "\n",
      "A reshaped again:\n",
      " [[0 1]\n",
      " [2 3]\n",
      " [4 5]\n",
      " [6 7]\n",
      " [8 9]] \n",
      "shape: (5, 2)\n",
      "\n",
      "And again:\n",
      " [[0 1 2 3 4 5 6 7 8 9]] \n",
      "shape: (1, 10)\n"
     ]
    }
   ],
   "source": [
    "# What if we want a different shape?\n",
    "A_2D = A.reshape(2,5) # splits down the middle\n",
    "print(\"A reshaped:\\n\", A_2D)\n",
    "print(\"shape:\", A_2D.shape)\n",
    "\n",
    "another_reshape = A_2D.reshape(5, 2)\n",
    "print(\"\\nA reshaped again:\\n\", another_reshape, \"\\nshape:\", another_reshape.shape)\n",
    "\n",
    "again = A_2D.reshape(1, 10)\n",
    "print(\"\\nAnd again:\\n\", again, \"\\nshape:\", again.shape)"
   ]
  },
  {
   "cell_type": "markdown",
   "metadata": {},
   "source": [
    "#### Extracting or changing values\n",
    "You can filter or change your data with array operations - no for loop required! Numpy can pull data, describe its location, or replace it with desired values"
   ]
  },
  {
   "cell_type": "code",
   "execution_count": 6,
   "metadata": {},
   "outputs": [
    {
     "name": "stdout",
     "output_type": "stream",
     "text": [
      "Extract samples > 3:\n",
      " [4 5 6 7 8 9]\n",
      "\n",
      "Is sample at i,j > 3?\n",
      " [[False False False False  True]\n",
      " [ True  True  True  True  True]]\n",
      "\n",
      "Where is A > 3?\n",
      "row: [0 1 1 1 1 1] \n",
      "column: [4 0 1 2 3 4]\n",
      "\n",
      "Replace samples not > 3 with 0:\n",
      " [[0 0 0 0 4]\n",
      " [5 6 7 8 9]]\n",
      "\n",
      "Scale samples up by 3:\n",
      " [[3 4 5 6 4]\n",
      " [5 6 7 8 9]]\n"
     ]
    }
   ],
   "source": [
    "# What if we only want samples that are greater than 3?\n",
    "A_sample = A_2D[A_2D>3]\n",
    "print(\"Extract samples > 3:\\n\", A_sample)\n",
    "\n",
    "# What if we want to know if a sample at a given location is greater than 3?\n",
    "A_g3 = A_2D>3\n",
    "print(\"\\nIs sample at i,j > 3?\\n\", A_g3)\n",
    "\n",
    "# What if we want all the locations that A is greater than 3?\n",
    "A_g3_idxs = np.where(A_2D>3)\n",
    "print(\"\\nWhere is A > 3?\\nrow:\", A_g3_idxs[0], \"\\ncolumn:\", A_g3_idxs[1])\n",
    "\n",
    "# What if we want to replace the \"bad\" samples with something else?\n",
    "# What if we want to add a value to those points?\n",
    "A_clean = A_2D.copy() # make a copy if you want to keep the old data\n",
    "A_clean[A_clean<=3] = 0\n",
    "print(\"\\nReplace samples not > 3 with 0:\\n\", A_clean)\n",
    "\n",
    "A_clean = A_2D.copy() # repeated code, don't do this\n",
    "A_clean[A_clean<=3] += 3\n",
    "print(\"\\nScale samples up by 3:\\n\", A_clean)"
   ]
  },
  {
   "cell_type": "markdown",
   "metadata": {},
   "source": [
    "#### Multi-array operations\n",
    "You can add, subtract, or scalar multiply arrays with the standard operators. However, if you want a matrix product, you will have to use the np.matmul() function, which will do a full matrix multiplication. Make sure your arrays have the correct dimensions before you multiply! The inner dimensions of your two matrices must be the same in order for you to multiply them (i.e. MxN * NxL = MxL, NOT MxN * MxL)."
   ]
  },
  {
   "cell_type": "code",
   "execution_count": 7,
   "metadata": {},
   "outputs": [
    {
     "name": "stdout",
     "output_type": "stream",
     "text": [
      "A:\n",
      " [[0 1 2 3 4]\n",
      " [5 6 7 8 9]]\n",
      "B:\n",
      " [[9 8 7 6 5]\n",
      " [4 3 2 1 0]]\n",
      "\n",
      "A*B element-wise:\n",
      " [[ 0  8 14 18 20]\n",
      " [20 18 14  8  0]]\n",
      "\n",
      "B transpose:\n",
      " [[9 4]\n",
      " [8 3]\n",
      " [7 2]\n",
      " [6 1]\n",
      " [5 0]]\n",
      "shape: (5, 2)\n",
      "\n",
      "A*B matrix product:\n",
      " [[ 60  10]\n",
      " [235  60]] \n",
      "shape: (2, 2) \n",
      "2x5 * 5x2 = 2x2\n"
     ]
    }
   ],
   "source": [
    "B_2D = np.array([i for i in range(9, -1, -1)]).reshape(2, 5) # array contains 9,8,7,...,0\n",
    "print(\"A:\\n\", A_2D)\n",
    "print(\"B:\\n\", B_2D)\n",
    "\n",
    "# Element-wise multiplication\n",
    "print(\"\\nA*B element-wise:\\n\", B_2D*A_2D)\n",
    "# Transpose\n",
    "print(\"\\nB transpose:\\n\", B_2D.T)\n",
    "print(\"shape:\", B_2D.T.shape)\n",
    "# Array multiplication\n",
    "product = np.matmul(A_2D, B_2D.T)\n",
    "print(\"\\nA*B matrix product:\\n\", product, \"\\nshape:\", product.shape,\n",
    "     \"\\n2x5 * 5x2 = 2x2\")"
   ]
  },
  {
   "cell_type": "markdown",
   "metadata": {},
   "source": [
    "#### Using functions with arrays\n",
    "Another way to avoid for loops - most mathematical functions in the numpy package can be used on arrays (element-wise). Here, we use a simple linear range of data to generate a number of useful plots."
   ]
  },
  {
   "cell_type": "code",
   "execution_count": 8,
   "metadata": {},
   "outputs": [
    {
     "data": {
      "text/plain": [
       "<matplotlib.legend.Legend at 0x11dedd790>"
      ]
     },
     "execution_count": 8,
     "metadata": {},
     "output_type": "execute_result"
    },
    {
     "data": {
      "image/png": "[encoded data removed]",
      "text/plain": [
       "<Figure size 432x288 with 1 Axes>"
      ]
     },
     "metadata": {
      "needs_background": "light"
     },
     "output_type": "display_data"
    }
   ],
   "source": [
    "# 1D array from 0 to 99\n",
    "x = np.arange(100)\n",
    "\n",
    "# Linear function\n",
    "y1 = .01*x - .5\n",
    "plt.plot(x, y1, label=\"linear\")\n",
    "\n",
    "# Sinusoidal function\n",
    "y2 = np.sin(x/(2*np.pi))\n",
    "plt.plot(x, y2, label=\"sine wave\")\n",
    "\n",
    "# Quadratic function\n",
    "y3 = -.0005*(x-50)**2+.5\n",
    "plt.plot(x, y3, label=\"quadratic\")\n",
    "\n",
    "plt.legend()"
   ]
  },
  {
   "cell_type": "markdown",
   "metadata": {},
   "source": [
    "If you want to know if you can do something with array operations instead of a for loop, the answer is probably yes! Look up the operation online for more info, or ask the professor or GSIs for help."
   ]
  },
  {
   "cell_type": "code",
   "execution_count": null,
   "metadata": {},
   "outputs": [],
   "source": []
  }
 ],
 "metadata": {
  "kernelspec": {
   "display_name": "Python 3 (ipykernel)",
   "language": "python",
   "name": "python3"
  },
  "language_info": {
   "codemirror_mode": {
    "name": "ipython",
    "version": 3
   },
   "file_extension": ".py",
   "mimetype": "text/x-python",
   "name": "python",
   "nbconvert_exporter": "python",
   "pygments_lexer": "ipython3",
   "version": "3.11.5"
  }
 },
 "nbformat": 4,
 "nbformat_minor": 4
}

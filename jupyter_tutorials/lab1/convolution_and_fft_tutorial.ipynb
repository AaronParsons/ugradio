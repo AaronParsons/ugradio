{
 "cells": [
  {
   "cell_type": "markdown",
   "metadata": {},
   "source": [
    "# Convolution Theorem"
   ]
  },
  {
   "cell_type": "code",
   "execution_count": 94,
   "metadata": {},
   "outputs": [],
   "source": [
    "import numpy as np\n",
    "import matplotlib.pylab as pl\n",
    "import scipy.linalg as sp\n",
    "import scipy.fftpack as sf\n",
    "import time"
   ]
  },
  {
   "cell_type": "markdown",
   "metadata": {},
   "source": [
    "The convolution theorem states that the Fourier transform of the convolution of two signals will be equivalent to the multiplication of those signals in the Fourier domain. For example, if you take two time-streams of data and convolve them with each other, that would be the same as if you Fourier transformed those signals into frequency space and then multiplied them together.\n",
    "\n",
    "Let's test this out. First, let's take two signals -- identical aside from a time delay. This is a situation you may encounter if there's a difference in cable lengths between two sources of the same signal (spoiler alert: this will come up in lab 3)."
   ]
  },
  {
   "cell_type": "code",
   "execution_count": 82,
   "metadata": {},
   "outputs": [
    {
     "data": {
      "text/plain": [
       "[<matplotlib.lines.Line2D at 0x7f63d3ab1d50>]"
      ]
     },
     "execution_count": 82,
     "metadata": {},
     "output_type": "execute_result"
    },
    {
     "data": {
      "image/png": "[encoded data removed]",
      "text/plain": [
       "<matplotlib.figure.Figure at 0x7f63d3a97710>"
      ]
     },
     "metadata": {},
     "output_type": "display_data"
    }
   ],
   "source": [
    "tau = np.pi/4. # delay between two signals\n",
    "signal1 = np.sin(np.linspace(0, 2*np.pi, 2048))\n",
    "signal2 = np.sin(np.linspace(0, 2*np.pi, 2048)-tau)\n",
    "\n",
    "pl.plot(signal1)\n",
    "pl.plot(signal2)"
   ]
  },
  {
   "cell_type": "markdown",
   "metadata": {},
   "source": [
    "Now let's verify that the convolution theorem holds. First, we will take our two signals and convolve them, then take the Fourier transform of the convolved signal."
   ]
  },
  {
   "cell_type": "code",
   "execution_count": 83,
   "metadata": {},
   "outputs": [],
   "source": [
    "# first, center time using an FFT shift\n",
    "signal1 = sf.fftshift(signal1)\n",
    "signal2 = sf.fftshift(signal2)\n",
    "\n",
    "\n",
    "# convolve time streams and FT\n",
    "c = np.convolve(signal1, signal2)\n",
    "fc = np.fft.fft(c)"
   ]
  },
  {
   "cell_type": "markdown",
   "metadata": {},
   "source": [
    "Now we'll try the other side of the equation, by first Fourier transforming our signals and multiplying them together. Before we can do this, we must copy our signals into a new array that's twice as long and has been padded with zeros. This is because the convolution operation slides over the full length of both signals, doubling the array size."
   ]
  },
  {
   "cell_type": "code",
   "execution_count": 84,
   "metadata": {},
   "outputs": [],
   "source": [
    "# copy and pad signals with zeros to fit new array shape\n",
    "s1 = signal1.copy()\n",
    "s1.resize(len(c), refcheck=False)\n",
    "\n",
    "s2 = signal2.copy()\n",
    "s2.resize(len(c), refcheck=False)\n",
    "\n",
    "# Fourier transform signals into frequency space\n",
    "fs1 = np.fft.fft(s1)\n",
    "fs2 = np.fft.fft(s2)\n",
    "\n",
    "# multiply FT signals\n",
    "m = fs1 * fs2"
   ]
  },
  {
   "cell_type": "markdown",
   "metadata": {},
   "source": [
    "Now we'll take both our convolved-and-Fourier-transformed signal and our Fourier-transformed-and-multiplied signal and compare. If the convolution theorem is true, then these two signals should be identical."
   ]
  },
  {
   "cell_type": "code",
   "execution_count": 85,
   "metadata": {},
   "outputs": [
    {
     "name": "stdout",
     "output_type": "stream",
     "text": [
      "Convolution theorem holds!\n"
     ]
    }
   ],
   "source": [
    "# compare convolution vs. FT + multiplication, show that difference is less than numerical noise\n",
    "if (abs(fc - m) < 1e-8).all():\n",
    "    print \"Convolution theorem holds!\"\n",
    "else:\n",
    "    print \"Oh no.\""
   ]
  },
  {
   "cell_type": "markdown",
   "metadata": {},
   "source": [
    "# The Fast Fourier Transform"
   ]
  },
  {
   "cell_type": "markdown",
   "metadata": {},
   "source": [
    "Earlier in this tutorial, you learned about the discrete Fourier transform (DFT) -- the way that computers are able to calculate Fourier transforms using discrete time and voltage samples. We also hinted that there's a benefit to performing your FTs with two specific characteristics:\n",
    "\n",
    "1. You want your number of samples to be a power of two.\n",
    "2. You want to define your time range so that the center point is $t = 0$.\n",
    "\n",
    "The reason for this is that it optimizes your data for usage with the Fast Fourier Transform (FFT), a specific algorithm for performing the DFT. The details of the FFT are complicated and generally left to those who specialize in the development of such algorithms, but the basic layout is that a complex input signal with N samples is broken down into two sets of N/2 samples, and then broken down again into four sets of N/4 samples, and again and again until you are left with N interlaced sets of 1 complex sample each. This is all to say: we reorder our samples in a convenient fashion. Those samples are then set into frequency space (recall: the FT of one point is itself, so nothing really happens in this stage computationally). The last step is to combine the N frequency spectra we now have in the exact reverse order of the time domain decomposition described above, one stage at a time.\n",
    "\n",
    "If that was confusing, don't worry! Understanding the algorithmic ins-and-outs of the FFT is purely optional for scientists like us. All that we need to know is that it's much, much faster than a classic DFT operation. Where the DFT is an O($N^2$) operation, the FFT is an O($N\\log{N}$) operation. Once you get into large data sets, this can save a lot of time in your data analysis.\n",
    "\n",
    "Let's take a look at how long it would take to perform a classic DFT vs. an FFT on a nicely shaped data set (where $N_{sample}$ is a power of two)"
   ]
  },
  {
   "cell_type": "code",
   "execution_count": 92,
   "metadata": {},
   "outputs": [
    {
     "name": "stdout",
     "output_type": "stream",
     "text": [
      "DFT computation time: 2.200099\n",
      "FFT computation time: 0.000388\n",
      "FFT is 5671 times faster than DFT.\n",
      "\n",
      "Are FFT and DFT giving the same results?\n",
      "True\n"
     ]
    }
   ],
   "source": [
    "N = 2048 # number of samples in signal\n",
    "sig = sf.fftshift(np.random.randn(N)) # center t = 0\n",
    "\n",
    "# first compute DFT and see how long it takes to run\n",
    "start_time = time.time()\n",
    "dft = sp.dft(N)\n",
    "dft_sig = dft.dot(sig)\n",
    "stop_time = time.time()\n",
    "\n",
    "dft_time = stop_time - start_time\n",
    "\n",
    "print \"DFT computation time: %f\" % (dft_time)\n",
    "\n",
    "# now compute FFT and see how long that takes\n",
    "start_time = time.time()\n",
    "fft_sig = np.fft.fft(sig)\n",
    "stop_time = time.time()\n",
    "\n",
    "fft_time = stop_time - start_time\n",
    "\n",
    "print \"FFT computation time: %f\" % (fft_time)\n",
    "\n",
    "print \"FFT is %d times faster than DFT.\" % int(dft_time/fft_time)\n",
    "\n",
    "# show that DFT and FFT are equivalent operations mathematically\n",
    "print \"\\nAre FFT and DFT giving the same results?\"\n",
    "print (abs(dft_sig-fft_sig) < 1e-8).all()"
   ]
  },
  {
   "cell_type": "markdown",
   "metadata": {},
   "source": [
    "We've now seen that the FFT is a much more efficient algorithm than the DFT. But what happens if our input signal isn't idealized for FFT usage? \n",
    "\n",
    "Let's compare an idealized FFT (what we always aim for as radio astronomers) vs. non-ideal FFT. We'll do this by doing one FFT with two spectra -- one with a prime number of samples and one with a power of two. These are respectively the slowest and fastest cases of the FFT.\n",
    "\n",
    "To give an advantage to the prime number case, we'll let the prime number be slightly lower than the power of two we're using. Let's see how long it takes to calculate these two cases of the FFT."
   ]
  },
  {
   "cell_type": "code",
   "execution_count": 93,
   "metadata": {},
   "outputs": [
    {
     "name": "stdout",
     "output_type": "stream",
     "text": [
      "FFT computation time, N = power of two: 0.001342\n",
      "FFT computation time, N = prime number: 0.077139\n",
      "Ideal FFT is 57 times faster than the prime number FFT.\n"
     ]
    }
   ],
   "source": [
    "sig1 = sf.fftshift(np.random.randn(4096)) # power of two number of samples -- most ideal for FFT calculation\n",
    "sig2 = sf.fftshift(np.random.randn(4093)) # prime number of samples -- least ideal for FFT calculation\n",
    "\n",
    "# now compute FFT on array with nice number of samples and see how long that takes\n",
    "start_time = time.time()\n",
    "fft_sig = np.fft.fft(sig1)\n",
    "stop_time = time.time()\n",
    "\n",
    "fft_time_ideal = stop_time - start_time\n",
    "\n",
    "print \"FFT computation time, N = power of two: %f\" % (fft_time_ideal)\n",
    "\n",
    "# now compute FFT on array with bad number of samples and see how long that takes\n",
    "start_time = time.time()\n",
    "fft_sig = np.fft.fft(sig2)\n",
    "stop_time = time.time()\n",
    "\n",
    "fft_time_prime = stop_time - start_time\n",
    "\n",
    "print \"FFT computation time, N = prime number: %f\" % (fft_time_prime)\n",
    "\n",
    "print \"Ideal FFT is %d times faster than the prime number FFT.\" % int(fft_time_prime / fft_time_ideal)"
   ]
  },
  {
   "cell_type": "markdown",
   "metadata": {},
   "source": [
    "Even with fewer samples, the FFT with a prime number of samples takes much longer to compute that the FFT with a number of samples that's a power of two!"
   ]
  },
  {
   "cell_type": "code",
   "execution_count": null,
   "metadata": {},
   "outputs": [],
   "source": []
  }
 ],
 "metadata": {
  "kernelspec": {
   "display_name": "Python 2",
   "language": "python",
   "name": "python2"
  },
  "language_info": {
   "codemirror_mode": {
    "name": "ipython",
    "version": 2
   },
   "file_extension": ".py",
   "mimetype": "text/x-python",
   "name": "python",
   "nbconvert_exporter": "python",
   "pygments_lexer": "ipython2",
   "version": "2.7.14"
  }
 },
 "nbformat": 4,
 "nbformat_minor": 2
}

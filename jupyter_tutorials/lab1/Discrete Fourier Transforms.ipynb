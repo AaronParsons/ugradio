{
 "cells": [
  {
   "cell_type": "code",
   "execution_count": 1,
   "metadata": {
    "execution": {
     "iopub.execute_input": "2025-01-22T18:59:00.698197Z",
     "iopub.status.busy": "2025-01-22T18:59:00.697382Z",
     "iopub.status.idle": "2025-01-22T18:59:01.331898Z",
     "shell.execute_reply": "2025-01-22T18:59:01.331262Z",
     "shell.execute_reply.started": "2025-01-22T18:59:00.698117Z"
    }
   },
   "outputs": [],
   "source": [
    "import numpy as np\n",
    "import matplotlib.pylab as plt\n",
    "\n",
    "# if using jupyter notebook\n",
    "#%matplotlib notebook\n",
    "# if using jupyter lab\n",
    "#%matplotlib widget\n",
    "# for static plots\n",
    "#%matplotlib inline"
   ]
  },
  {
   "cell_type": "markdown",
   "metadata": {},
   "source": [
    "# Discrete Fourier Transform\n",
    "\n",
    "I cannot demonstrate an analytic fourier transform on a computer (any guesses why?) so I am going to start with computing the discrete fourier tranform of a single sine wave.\n",
    "\n",
    "The DFT formula is given by:\n",
    "$$X_k = \\Sigma_{n=0}^{N-1} x_n e^{2\\pi i nk/N}$$"
   ]
  },
  {
   "cell_type": "markdown",
   "metadata": {},
   "source": [
    "## Time Domain Signal\n",
    "\n",
    "We will first create the time series that we will fourier transform later. You can experiment below by changing the number of samples and signal frequency and observe the effect it has on the discrete fourier transform. "
   ]
  },
  {
   "cell_type": "code",
   "execution_count": 2,
   "metadata": {
    "execution": {
     "iopub.execute_input": "2025-01-22T18:59:02.547663Z",
     "iopub.status.busy": "2025-01-22T18:59:02.546705Z",
     "iopub.status.idle": "2025-01-22T18:59:02.805172Z",
     "shell.execute_reply": "2025-01-22T18:59:02.804452Z",
     "shell.execute_reply.started": "2025-01-22T18:59:02.547554Z"
    }
   },
   "outputs": [
    {
     "data": {
      "image/png": "[encoded data removed]",
      "text/plain": [
       "<Figure size 432x288 with 1 Axes>"
      ]
     },
     "metadata": {
      "needs_background": "light"
     },
     "output_type": "display_data"
    }
   ],
   "source": [
    "# Number of samples\n",
    "N = 64\n",
    "\n",
    "# Signal frequency\n",
    "v_sig = 2 #Hz\n",
    "\n",
    "# Time duration of signal\n",
    "T0 = 4 #s\n",
    "\n",
    "t = np.linspace(-T0/2,T0/2,num=N,endpoint=False)\n",
    "xn = np.sin(2*np.pi*v_sig*t)\n",
    "\n",
    "fig,ax = plt.subplots(1,1)\n",
    "ax.plot(t,xn,'o')\n",
    "ax.vlines(x=t,ymin=0,ymax=xn)\n",
    "ax.axhline(0,c='k')\n",
    "ax.set_xlabel('Time')\n",
    "_ = ax.set_ylabel('Amplitude')"
   ]
  },
  {
   "cell_type": "markdown",
   "metadata": {},
   "source": [
    "## Frequency Domain Signal\n",
    "\n",
    "The frequency domain signal is given by the fourier transform of the time domain signal. Using the formula above, we compute the summation for each $k$ bin.\n",
    "\n",
    "### What do you expect the output to be??\n",
    "\n",
    "If you had to make a naive (but intelligent) guess, you could argue that- the fourier transform represents the frequencies present in your input function => fourier transform of sine wave should have only one non-zero Fk, corresponding to the input frequency.\n",
    "\n",
    "Check out the output by running the code below! If you're baffled, read the section on *negative frequencies*."
   ]
  },
  {
   "cell_type": "code",
   "execution_count": 3,
   "metadata": {
    "execution": {
     "iopub.execute_input": "2025-01-22T18:59:19.223420Z",
     "iopub.status.busy": "2025-01-22T18:59:19.222536Z",
     "iopub.status.idle": "2025-01-22T18:59:19.467726Z",
     "shell.execute_reply": "2025-01-22T18:59:19.466544Z",
     "shell.execute_reply.started": "2025-01-22T18:59:19.223340Z"
    }
   },
   "outputs": [
    {
     "data": {
      "image/png": "[encoded data removed]",
      "text/plain": [
       "<Figure size 432x288 with 1 Axes>"
      ]
     },
     "metadata": {
      "needs_background": "light"
     },
     "output_type": "display_data"
    }
   ],
   "source": [
    "Xk = []\n",
    "chan = np.linspace(-N/2,N/2,num=N,endpoint=False)\n",
    "\n",
    "for k in chan:\n",
    "    temp = 0\n",
    "    for n in range(N):\n",
    "        temp += xn[n]*np.exp(2*np.pi*1j*n*k/N)\n",
    "    Xk.append(temp)\n",
    "    \n",
    "fig1,ax1 = plt.subplots(1,1)\n",
    "ax1.axhline(0,c='k')\n",
    "ax1.set_ylabel('Amplitude')\n",
    "ax1.set_xlabel('k')\n",
    "\n",
    "ax1.vlines(x=chan,ymin=0,ymax=np.real(Xk))\n",
    "ax1.plot(chan,np.real(Xk),ls='None',marker='o',c='b',label='Real')\n",
    "ax1.vlines(x=chan,ymin=0,ymax=np.imag(Xk))\n",
    "ax1.plot(chan,np.imag(Xk),ls='None',marker='o',c='g',label='Imag')\n",
    "_ = ax1.legend()"
   ]
  },
  {
   "cell_type": "markdown",
   "metadata": {
    "collapsed": true,
    "jupyter": {
     "outputs_hidden": true
    }
   },
   "source": [
    "# Power Spectrum\n",
    "\n",
    "In the plot above we computed the real and imaginary part of the fourier transform but we are often more interested in the power spectrum. What is the power in each frequency bin? Since we were using k to denote the frequency bin, I am going to continue using $k$.\n",
    "\n",
    "$$P(k) = X_k X_k^*$$"
   ]
  },
  {
   "cell_type": "code",
   "execution_count": 4,
   "metadata": {
    "execution": {
     "iopub.execute_input": "2025-01-22T18:59:34.211750Z",
     "iopub.status.busy": "2025-01-22T18:59:34.210755Z",
     "iopub.status.idle": "2025-01-22T18:59:34.453326Z",
     "shell.execute_reply": "2025-01-22T18:59:34.452596Z",
     "shell.execute_reply.started": "2025-01-22T18:59:34.211627Z"
    }
   },
   "outputs": [
    {
     "data": {
      "image/png": "[encoded data removed]",
      "text/plain": [
       "<Figure size 432x288 with 1 Axes>"
      ]
     },
     "metadata": {
      "needs_background": "light"
     },
     "output_type": "display_data"
    }
   ],
   "source": [
    "Pk = Xk*np.conj(Xk)\n",
    "\n",
    "fig2, ax2 = plt.subplots(1,1)\n",
    "ax2.axhline(0,c='k')\n",
    "ax2.set_ylabel('Amplitude')\n",
    "ax2.set_xlabel('k')\n",
    "\n",
    "ax2.vlines(x=chan,ymin=0,ymax=np.real(Pk))\n",
    "ax2.plot(chan,np.real(Pk),ls='None',marker='o',c='b',label='Real')\n",
    "ax2.plot(chan,np.imag(Pk),c='g',label='Imag')\n",
    "_ = ax2.legend()"
   ]
  },
  {
   "cell_type": "markdown",
   "metadata": {
    "collapsed": true,
    "jupyter": {
     "outputs_hidden": true
    }
   },
   "source": [
    "# Spectral Resolution\n",
    "\n",
    "We have been representing the frequency channels by $k$ (the bin number of the frequency channel) so far. It is time we associated more meaning to this number. Every channel is representing a distinct frequency that is determined by the time length of the input signal. The frequency resolution is given by: \n",
    "\n",
    "$$\\Delta \\nu = \\frac{1}{T}$$\n",
    "\n",
    "Hence the frequencies range from $-\\frac{N}{2}\\Delta \\nu$ to $+\\frac{N}{2}\\Delta \\nu$. Let us replot the power spectrum with the right frequency spacing and see if our computation shows power at the right frequency.\n",
    "\n",
    "**Note**: In the above pieces of code I adjusted the inclusion of the last frequency bin to have a frequency channel centered at zero for clarity."
   ]
  },
  {
   "cell_type": "code",
   "execution_count": 5,
   "metadata": {
    "execution": {
     "iopub.execute_input": "2025-01-22T19:00:18.265879Z",
     "iopub.status.busy": "2025-01-22T19:00:18.264983Z",
     "iopub.status.idle": "2025-01-22T19:00:18.493826Z",
     "shell.execute_reply": "2025-01-22T19:00:18.492832Z",
     "shell.execute_reply.started": "2025-01-22T19:00:18.265801Z"
    }
   },
   "outputs": [
    {
     "data": {
      "image/png": "[encoded data removed]",
      "text/plain": [
       "<Figure size 432x288 with 1 Axes>"
      ]
     },
     "metadata": {
      "needs_background": "light"
     },
     "output_type": "display_data"
    }
   ],
   "source": [
    "dv = 1.0 / T0  #Resolution\n",
    "v = chan * dv  # Frequency array\n",
    "\n",
    "fig3,ax3 = plt.subplots(1,1)\n",
    "ax3.axhline(0, c='k')\n",
    "ax3.set_ylabel('Amplitude')\n",
    "ax3.set_xlabel('k')\n",
    "\n",
    "ax3.vlines(x=v, ymin=0, ymax=np.real(Pk))\n",
    "_ = ax3.plot(v, np.real(Pk), ls='None', marker='o')"
   ]
  },
  {
   "cell_type": "markdown",
   "metadata": {},
   "source": [
    "## Spectral Leakage\n",
    "\n",
    "Go back to the first (well, second) block of code. Change the frequency to a non-integer value (say, 23.3) and fix the number of points such that you are sampling faster than the Nyquist frequency (you should know how to compute this by now). Does a single frequency channel light up or multiple?\n",
    "\n",
    "When the frequency/frequencies of your input signal do not exactly match the frequency bins of your fourier transform the power \"leaks\" into nearby bins. Note that **this is not aliasing**. Spectral leakage is a problem over and above aliasing."
   ]
  },
  {
   "cell_type": "markdown",
   "metadata": {},
   "source": [
    "# Convolution Theorem\n",
    "\n",
    "The convolution theorem states that the Fourier transform of the convolution of two signals will be equivalent to the multiplication of those signals in the Fourier domain. For example, if you take two time-streams of data and convolve them with each other, that would be the same as if you Fourier transformed those signals into frequency space and then multiplied them together.\n",
    "\n",
    "Let's test this out. First, let's take two signals -- identical aside from a time delay. This is a situation you may encounter if there's a difference in cable lengths between two sources of the same signal (spoiler alert: this will come up in lab 3)."
   ]
  },
  {
   "cell_type": "code",
   "execution_count": 6,
   "metadata": {
    "execution": {
     "iopub.execute_input": "2025-01-22T19:00:25.534577Z",
     "iopub.status.busy": "2025-01-22T19:00:25.533699Z",
     "iopub.status.idle": "2025-01-22T19:00:25.824649Z",
     "shell.execute_reply": "2025-01-22T19:00:25.824049Z",
     "shell.execute_reply.started": "2025-01-22T19:00:25.534498Z"
    }
   },
   "outputs": [],
   "source": [
    "import scipy.linalg as sp\n",
    "import scipy.fftpack as sf\n",
    "import time"
   ]
  },
  {
   "cell_type": "code",
   "execution_count": 8,
   "metadata": {
    "execution": {
     "iopub.execute_input": "2025-01-22T19:00:36.115689Z",
     "iopub.status.busy": "2025-01-22T19:00:36.114803Z",
     "iopub.status.idle": "2025-01-22T19:00:36.307019Z",
     "shell.execute_reply": "2025-01-22T19:00:36.306463Z",
     "shell.execute_reply.started": "2025-01-22T19:00:36.115611Z"
    }
   },
   "outputs": [
    {
     "data": {
      "image/png": "[encoded data removed]",
      "text/plain": [
       "<Figure size 432x288 with 1 Axes>"
      ]
     },
     "metadata": {
      "needs_background": "light"
     },
     "output_type": "display_data"
    }
   ],
   "source": [
    "tau = np.pi/4. # delay between two signals\n",
    "signal1 = np.sin(np.linspace(0, 2*np.pi, 2048))\n",
    "signal2 = np.sin(np.linspace(0, 2*np.pi, 2048)-tau)\n",
    "\n",
    "fig4,ax4 = plt.subplots(1,1)\n",
    "ax4.set_xlabel('Time')\n",
    "ax4.set_ylabel('Amplitude')\n",
    "ax4.plot(signal1)\n",
    "_ = ax4.plot(signal2)"
   ]
  },
  {
   "cell_type": "markdown",
   "metadata": {},
   "source": [
    "Now let's verify that the convolution theorem holds. First, we will take our two signals and convolve them, then take the Fourier transform of the convolved signal."
   ]
  },
  {
   "cell_type": "code",
   "execution_count": 9,
   "metadata": {
    "execution": {
     "iopub.execute_input": "2025-01-22T19:00:38.984373Z",
     "iopub.status.busy": "2025-01-22T19:00:38.983376Z",
     "iopub.status.idle": "2025-01-22T19:00:38.998545Z",
     "shell.execute_reply": "2025-01-22T19:00:38.996141Z",
     "shell.execute_reply.started": "2025-01-22T19:00:38.984294Z"
    }
   },
   "outputs": [],
   "source": [
    "# first, center time using an FFT shift\n",
    "signal1 = sf.fftshift(signal1)\n",
    "signal2 = sf.fftshift(signal2)\n",
    "\n",
    "\n",
    "# convolve time streams and FT\n",
    "c = np.convolve(signal1, signal2)\n",
    "fc = np.fft.fft(c)"
   ]
  },
  {
   "cell_type": "markdown",
   "metadata": {},
   "source": [
    "Now we'll try the other side of the equation, by first Fourier transforming our signals and multiplying them together. Before we can do this, we must copy our signals into a new array that's twice as long and has been padded with zeros. This is because the convolution operation slides over the full length of both signals, doubling the array size."
   ]
  },
  {
   "cell_type": "code",
   "execution_count": 10,
   "metadata": {
    "execution": {
     "iopub.execute_input": "2025-01-22T19:00:42.470166Z",
     "iopub.status.busy": "2025-01-22T19:00:42.469214Z",
     "iopub.status.idle": "2025-01-22T19:00:42.486434Z",
     "shell.execute_reply": "2025-01-22T19:00:42.483513Z",
     "shell.execute_reply.started": "2025-01-22T19:00:42.470086Z"
    }
   },
   "outputs": [],
   "source": [
    "# copy and pad signals with zeros to fit new array shape\n",
    "s1 = signal1.copy()\n",
    "s1.resize(len(c), refcheck=False)\n",
    "\n",
    "s2 = signal2.copy()\n",
    "s2.resize(len(c), refcheck=False)\n",
    "\n",
    "# Fourier transform signals into frequency space\n",
    "fs1 = np.fft.fft(s1)\n",
    "fs2 = np.fft.fft(s2)\n",
    "\n",
    "# multiply FT signals\n",
    "m = fs1 * fs2"
   ]
  },
  {
   "cell_type": "markdown",
   "metadata": {},
   "source": [
    "Now we'll take both our convolved-and-Fourier-transformed signal and our Fourier-transformed-and-multiplied signal and compare. If the convolution theorem is true, then these two signals should be identical."
   ]
  },
  {
   "cell_type": "code",
   "execution_count": 11,
   "metadata": {
    "execution": {
     "iopub.execute_input": "2025-01-22T19:01:00.221415Z",
     "iopub.status.busy": "2025-01-22T19:01:00.220544Z",
     "iopub.status.idle": "2025-01-22T19:01:00.234704Z",
     "shell.execute_reply": "2025-01-22T19:01:00.232018Z",
     "shell.execute_reply.started": "2025-01-22T19:01:00.221336Z"
    }
   },
   "outputs": [
    {
     "name": "stdout",
     "output_type": "stream",
     "text": [
      "Convolution theorem holds!\n"
     ]
    }
   ],
   "source": [
    "# compare convolution vs. FT + multiplication, show that difference is less than numerical noise\n",
    "if (abs(fc - m) < 1e-8).all():\n",
    "    print(\"Convolution theorem holds!\")\n",
    "else:\n",
    "    print(\"Oh no.\")"
   ]
  },
  {
   "cell_type": "markdown",
   "metadata": {},
   "source": [
    "# The Fast Fourier Transform\n",
    "\n",
    "Earlier in this tutorial, you learned about the discrete Fourier transform (DFT) -- the way that computers are able to calculate Fourier transforms using discrete time and voltage samples. We also hinted that there's a benefit to performing your FTs with two specific characteristics:\n",
    "\n",
    "1. You want your number of samples to be a power of two.\n",
    "2. You want to define your time range so that the center point is $t = 0$.\n",
    "\n",
    "The reason for this is that it optimizes your data for usage with the Fast Fourier Transform (FFT), a specific algorithm for performing the DFT. The details of the FFT are complicated and generally left to those who specialize in the development of such algorithms, but the basic layout is that a complex input signal with N samples is broken down into two sets of N/2 samples, and then broken down again into four sets of N/4 samples, and again and again until you are left with N interlaced sets of 1 complex sample each. This is all to say: we reorder our samples in a convenient fashion. Those samples are then set into frequency space (recall: the FT of one point is itself, so nothing really happens in this stage computationally). The last step is to combine the N frequency spectra we now have in the exact reverse order of the time domain decomposition described above, one stage at a time.\n",
    "\n",
    "If that was confusing, don't worry! Understanding the algorithmic ins-and-outs of the FFT is purely optional for scientists like us. All that we need to know is that it's much, much faster than a classic DFT operation. Where the DFT is an O($N^2$) operation, the FFT is an O($N\\log{N}$) operation. Once you get into large data sets, this can save a lot of time in your data analysis.\n",
    "\n",
    "Let's take a look at how long it would take to perform a classic DFT vs. an FFT on a nicely shaped data set (where $N_{sample}$ is a power of two)."
   ]
  },
  {
   "cell_type": "code",
   "execution_count": 12,
   "metadata": {
    "execution": {
     "iopub.execute_input": "2025-01-22T19:01:43.755757Z",
     "iopub.status.busy": "2025-01-22T19:01:43.754816Z",
     "iopub.status.idle": "2025-01-22T19:01:44.755839Z",
     "shell.execute_reply": "2025-01-22T19:01:44.754788Z",
     "shell.execute_reply.started": "2025-01-22T19:01:43.755679Z"
    }
   },
   "outputs": [
    {
     "name": "stdout",
     "output_type": "stream",
     "text": [
      "DFT computation time: 0.984944\n",
      "FFT computation time: 0.000341\n",
      "FFT is 2886 times faster than DFT.\n",
      "\n",
      "Are FFT and DFT giving the same results?\n",
      "True\n"
     ]
    }
   ],
   "source": [
    "N = 2048 # number of samples in signal\n",
    "sig = sf.fftshift(np.random.randn(N)) # center t = 0\n",
    "\n",
    "# first compute DFT and see how long it takes to run\n",
    "start_time = time.time()\n",
    "dft = sp.dft(N)\n",
    "dft_sig = dft.dot(sig)\n",
    "stop_time = time.time()\n",
    "\n",
    "dft_time = stop_time - start_time\n",
    "\n",
    "print(\"DFT computation time: %f\" % (dft_time))\n",
    "\n",
    "# now compute FFT and see how long that takes\n",
    "start_time = time.time()\n",
    "fft_sig = np.fft.fft(sig)\n",
    "stop_time = time.time()\n",
    "\n",
    "fft_time = stop_time - start_time\n",
    "\n",
    "print(\"FFT computation time: %f\" % (fft_time))\n",
    "\n",
    "print(\"FFT is %d times faster than DFT.\" % int(dft_time/fft_time))\n",
    "\n",
    "# show that DFT and FFT are equivalent operations mathematically\n",
    "print(\"\\nAre FFT and DFT giving the same results?\")\n",
    "print((abs(dft_sig-fft_sig) < 1e-8).all())"
   ]
  },
  {
   "cell_type": "markdown",
   "metadata": {},
   "source": [
    "We've now seen that the FFT is a much more efficient algorithm than the DFT. But what happens if our input signal isn't idealized for FFT usage? \n",
    "\n",
    "Let's compare an idealized FFT (what we always aim for as radio astronomers) vs. non-ideal FFT. We'll do this by doing one FFT with two spectra -- one with a prime number of samples and one with a power of two. These are respectively the slowest and fastest cases of the FFT.\n",
    "\n",
    "To give an advantage to the prime number case, we'll let the prime number be slightly lower than the power of two we're using. Let's see how long it takes to calculate these two cases of the FFT."
   ]
  },
  {
   "cell_type": "code",
   "execution_count": 13,
   "metadata": {
    "execution": {
     "iopub.execute_input": "2025-01-22T19:02:07.445517Z",
     "iopub.status.busy": "2025-01-22T19:02:07.444643Z",
     "iopub.status.idle": "2025-01-22T19:02:07.468664Z",
     "shell.execute_reply": "2025-01-22T19:02:07.465752Z",
     "shell.execute_reply.started": "2025-01-22T19:02:07.445439Z"
    }
   },
   "outputs": [
    {
     "name": "stdout",
     "output_type": "stream",
     "text": [
      "FFT computation time, N = power of two: 0.000634\n",
      "FFT computation time, N = prime number: 0.002087\n",
      "Ideal FFT is 3 times faster than the prime number FFT.\n"
     ]
    }
   ],
   "source": [
    "sig1 = sf.fftshift(np.random.randn(4096)) # power of two number of samples -- most ideal for FFT calculation\n",
    "sig2 = sf.fftshift(np.random.randn(4093)) # prime number of samples -- least ideal for FFT calculation\n",
    "\n",
    "# now compute FFT on array with nice number of samples and see how long that takes\n",
    "start_time = time.time()\n",
    "fft_sig = np.fft.fft(sig1)\n",
    "stop_time = time.time()\n",
    "\n",
    "fft_time_ideal = stop_time - start_time\n",
    "\n",
    "print(\"FFT computation time, N = power of two: %f\" % (fft_time_ideal))\n",
    "\n",
    "# now compute FFT on array with bad number of samples and see how long that takes\n",
    "start_time = time.time()\n",
    "fft_sig = np.fft.fft(sig2)\n",
    "stop_time = time.time()\n",
    "\n",
    "fft_time_prime = stop_time - start_time\n",
    "\n",
    "print(\"FFT computation time, N = prime number: %f\" % (fft_time_prime))\n",
    "\n",
    "print(\"Ideal FFT is %d times faster than the prime number FFT.\" % int(fft_time_prime / fft_time_ideal))"
   ]
  },
  {
   "cell_type": "markdown",
   "metadata": {},
   "source": [
    "Even with fewer samples, the FFT with a prime number of samples takes much longer to compute that the FFT with a number of samples that's a power of two!"
   ]
  }
 ],
 "metadata": {
  "anaconda-cloud": {},
  "kernelspec": {
   "display_name": "Python 3 (ipykernel)",
   "language": "python",
   "name": "python3"
  },
  "language_info": {
   "codemirror_mode": {
    "name": "ipython",
    "version": 3
   },
   "file_extension": ".py",
   "mimetype": "text/x-python",
   "name": "python",
   "nbconvert_exporter": "python",
   "pygments_lexer": "ipython3",
   "version": "3.10.12"
  }
 },
 "nbformat": 4,
 "nbformat_minor": 4
}
